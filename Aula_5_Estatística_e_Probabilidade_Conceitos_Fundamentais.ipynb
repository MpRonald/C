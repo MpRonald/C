{
  "nbformat": 4,
  "nbformat_minor": 0,
  "metadata": {
    "colab": {
      "provenance": [],
      "authorship_tag": "ABX9TyMtjlyEWql2PquyJ+3PNlYk",
      "include_colab_link": true
    },
    "kernelspec": {
      "name": "python3",
      "display_name": "Python 3"
    },
    "language_info": {
      "name": "python"
    }
  },
  "cells": [
    {
      "cell_type": "markdown",
      "metadata": {
        "id": "view-in-github",
        "colab_type": "text"
      },
      "source": [
        "<a href=\"https://colab.research.google.com/github/MpRonald/C/blob/main/Aula_5_Estat%C3%ADstica_e_Probabilidade_Conceitos_Fundamentais.ipynb\" target=\"_parent\"><img src=\"https://colab.research.google.com/assets/colab-badge.svg\" alt=\"Open In Colab\"/></a>"
      ]
    },
    {
      "cell_type": "markdown",
      "source": [
        "#### 📌 O que será abordado:\n",
        "✅ Medidas de tendência central (Média, Mediana, Moda).\n",
        "\n",
        "✅ Medidas de dispersão (Variância, Desvio Padrão).\n",
        "\n",
        "✅ Distribuições de probabilidade (Normal, Binomial, Poisson).\n",
        "\n",
        "✅ Intervalos de Confiança.\n",
        "\n",
        "✅ Testes de Hipóteses e Testes A/B."
      ],
      "metadata": {
        "id": "6Bg2GMyb_2c9"
      }
    },
    {
      "cell_type": "markdown",
      "source": [
        "# Medidas de Tendência Central\n",
        "✅ Média → Soma de todos os valores dividida pelo número total de elementos.\n",
        "\n",
        "✅ Mediana → Valor central de um conjunto ordenado.\n",
        "\n",
        "✅ Moda → Valor que mais se repete no conjunto de dados.\n"
      ],
      "metadata": {
        "id": "T6L00k_NAIRC"
      }
    },
    {
      "cell_type": "code",
      "source": [
        "import numpy as np\n",
        "import pandas as pd\n",
        "import statsmodels.api as sm\n",
        "\n",
        "# Definindo a seed para garantir reprodutibilidade\n",
        "np.random.seed(123)\n",
        "\n",
        "# Definindo o número de linhas do DataFrame\n",
        "n_linhas = 5000\n",
        "\n",
        "# Gerando idades aleatórias entre 18 e 80 anos\n",
        "idades = np.random.randint(18, 50, size=n_linhas)\n",
        "\n",
        "# Gerando o sexo aleatoriamente (50% masculino, 50% feminino)\n",
        "sexos = np.random.choice(['M', 'F'], size=n_linhas)\n",
        "\n",
        "# Criando o DataFrame com Pandas\n",
        "df = pd.DataFrame({'idade': idades, 'sexo': sexos})\n",
        "\n",
        "# Exibindo as primeiras 5 linhas do DataFrame\n",
        "df.head()\n"
      ],
      "metadata": {
        "colab": {
          "base_uri": "https://localhost:8080/",
          "height": 206
        },
        "id": "F6zE2TbyBn3H",
        "outputId": "558f6c64-d3c1-42ab-ad83-b350544ba5c5"
      },
      "execution_count": 14,
      "outputs": [
        {
          "output_type": "execute_result",
          "data": {
            "text/plain": [
              "   idade sexo\n",
              "0     48    F\n",
              "1     31    M\n",
              "2     48    M\n",
              "3     20    M\n",
              "4     46    F"
            ],
            "text/html": [
              "\n",
              "  <div id=\"df-e802794a-fcc1-4f87-ad4d-81680f9dfad0\" class=\"colab-df-container\">\n",
              "    <div>\n",
              "<style scoped>\n",
              "    .dataframe tbody tr th:only-of-type {\n",
              "        vertical-align: middle;\n",
              "    }\n",
              "\n",
              "    .dataframe tbody tr th {\n",
              "        vertical-align: top;\n",
              "    }\n",
              "\n",
              "    .dataframe thead th {\n",
              "        text-align: right;\n",
              "    }\n",
              "</style>\n",
              "<table border=\"1\" class=\"dataframe\">\n",
              "  <thead>\n",
              "    <tr style=\"text-align: right;\">\n",
              "      <th></th>\n",
              "      <th>idade</th>\n",
              "      <th>sexo</th>\n",
              "    </tr>\n",
              "  </thead>\n",
              "  <tbody>\n",
              "    <tr>\n",
              "      <th>0</th>\n",
              "      <td>48</td>\n",
              "      <td>F</td>\n",
              "    </tr>\n",
              "    <tr>\n",
              "      <th>1</th>\n",
              "      <td>31</td>\n",
              "      <td>M</td>\n",
              "    </tr>\n",
              "    <tr>\n",
              "      <th>2</th>\n",
              "      <td>48</td>\n",
              "      <td>M</td>\n",
              "    </tr>\n",
              "    <tr>\n",
              "      <th>3</th>\n",
              "      <td>20</td>\n",
              "      <td>M</td>\n",
              "    </tr>\n",
              "    <tr>\n",
              "      <th>4</th>\n",
              "      <td>46</td>\n",
              "      <td>F</td>\n",
              "    </tr>\n",
              "  </tbody>\n",
              "</table>\n",
              "</div>\n",
              "    <div class=\"colab-df-buttons\">\n",
              "\n",
              "  <div class=\"colab-df-container\">\n",
              "    <button class=\"colab-df-convert\" onclick=\"convertToInteractive('df-e802794a-fcc1-4f87-ad4d-81680f9dfad0')\"\n",
              "            title=\"Convert this dataframe to an interactive table.\"\n",
              "            style=\"display:none;\">\n",
              "\n",
              "  <svg xmlns=\"http://www.w3.org/2000/svg\" height=\"24px\" viewBox=\"0 -960 960 960\">\n",
              "    <path d=\"M120-120v-720h720v720H120Zm60-500h600v-160H180v160Zm220 220h160v-160H400v160Zm0 220h160v-160H400v160ZM180-400h160v-160H180v160Zm440 0h160v-160H620v160ZM180-180h160v-160H180v160Zm440 0h160v-160H620v160Z\"/>\n",
              "  </svg>\n",
              "    </button>\n",
              "\n",
              "  <style>\n",
              "    .colab-df-container {\n",
              "      display:flex;\n",
              "      gap: 12px;\n",
              "    }\n",
              "\n",
              "    .colab-df-convert {\n",
              "      background-color: #E8F0FE;\n",
              "      border: none;\n",
              "      border-radius: 50%;\n",
              "      cursor: pointer;\n",
              "      display: none;\n",
              "      fill: #1967D2;\n",
              "      height: 32px;\n",
              "      padding: 0 0 0 0;\n",
              "      width: 32px;\n",
              "    }\n",
              "\n",
              "    .colab-df-convert:hover {\n",
              "      background-color: #E2EBFA;\n",
              "      box-shadow: 0px 1px 2px rgba(60, 64, 67, 0.3), 0px 1px 3px 1px rgba(60, 64, 67, 0.15);\n",
              "      fill: #174EA6;\n",
              "    }\n",
              "\n",
              "    .colab-df-buttons div {\n",
              "      margin-bottom: 4px;\n",
              "    }\n",
              "\n",
              "    [theme=dark] .colab-df-convert {\n",
              "      background-color: #3B4455;\n",
              "      fill: #D2E3FC;\n",
              "    }\n",
              "\n",
              "    [theme=dark] .colab-df-convert:hover {\n",
              "      background-color: #434B5C;\n",
              "      box-shadow: 0px 1px 3px 1px rgba(0, 0, 0, 0.15);\n",
              "      filter: drop-shadow(0px 1px 2px rgba(0, 0, 0, 0.3));\n",
              "      fill: #FFFFFF;\n",
              "    }\n",
              "  </style>\n",
              "\n",
              "    <script>\n",
              "      const buttonEl =\n",
              "        document.querySelector('#df-e802794a-fcc1-4f87-ad4d-81680f9dfad0 button.colab-df-convert');\n",
              "      buttonEl.style.display =\n",
              "        google.colab.kernel.accessAllowed ? 'block' : 'none';\n",
              "\n",
              "      async function convertToInteractive(key) {\n",
              "        const element = document.querySelector('#df-e802794a-fcc1-4f87-ad4d-81680f9dfad0');\n",
              "        const dataTable =\n",
              "          await google.colab.kernel.invokeFunction('convertToInteractive',\n",
              "                                                    [key], {});\n",
              "        if (!dataTable) return;\n",
              "\n",
              "        const docLinkHtml = 'Like what you see? Visit the ' +\n",
              "          '<a target=\"_blank\" href=https://colab.research.google.com/notebooks/data_table.ipynb>data table notebook</a>'\n",
              "          + ' to learn more about interactive tables.';\n",
              "        element.innerHTML = '';\n",
              "        dataTable['output_type'] = 'display_data';\n",
              "        await google.colab.output.renderOutput(dataTable, element);\n",
              "        const docLink = document.createElement('div');\n",
              "        docLink.innerHTML = docLinkHtml;\n",
              "        element.appendChild(docLink);\n",
              "      }\n",
              "    </script>\n",
              "  </div>\n",
              "\n",
              "\n",
              "<div id=\"df-fa4cdb05-bb02-4e24-86c2-0061c7a4f716\">\n",
              "  <button class=\"colab-df-quickchart\" onclick=\"quickchart('df-fa4cdb05-bb02-4e24-86c2-0061c7a4f716')\"\n",
              "            title=\"Suggest charts\"\n",
              "            style=\"display:none;\">\n",
              "\n",
              "<svg xmlns=\"http://www.w3.org/2000/svg\" height=\"24px\"viewBox=\"0 0 24 24\"\n",
              "     width=\"24px\">\n",
              "    <g>\n",
              "        <path d=\"M19 3H5c-1.1 0-2 .9-2 2v14c0 1.1.9 2 2 2h14c1.1 0 2-.9 2-2V5c0-1.1-.9-2-2-2zM9 17H7v-7h2v7zm4 0h-2V7h2v10zm4 0h-2v-4h2v4z\"/>\n",
              "    </g>\n",
              "</svg>\n",
              "  </button>\n",
              "\n",
              "<style>\n",
              "  .colab-df-quickchart {\n",
              "      --bg-color: #E8F0FE;\n",
              "      --fill-color: #1967D2;\n",
              "      --hover-bg-color: #E2EBFA;\n",
              "      --hover-fill-color: #174EA6;\n",
              "      --disabled-fill-color: #AAA;\n",
              "      --disabled-bg-color: #DDD;\n",
              "  }\n",
              "\n",
              "  [theme=dark] .colab-df-quickchart {\n",
              "      --bg-color: #3B4455;\n",
              "      --fill-color: #D2E3FC;\n",
              "      --hover-bg-color: #434B5C;\n",
              "      --hover-fill-color: #FFFFFF;\n",
              "      --disabled-bg-color: #3B4455;\n",
              "      --disabled-fill-color: #666;\n",
              "  }\n",
              "\n",
              "  .colab-df-quickchart {\n",
              "    background-color: var(--bg-color);\n",
              "    border: none;\n",
              "    border-radius: 50%;\n",
              "    cursor: pointer;\n",
              "    display: none;\n",
              "    fill: var(--fill-color);\n",
              "    height: 32px;\n",
              "    padding: 0;\n",
              "    width: 32px;\n",
              "  }\n",
              "\n",
              "  .colab-df-quickchart:hover {\n",
              "    background-color: var(--hover-bg-color);\n",
              "    box-shadow: 0 1px 2px rgba(60, 64, 67, 0.3), 0 1px 3px 1px rgba(60, 64, 67, 0.15);\n",
              "    fill: var(--button-hover-fill-color);\n",
              "  }\n",
              "\n",
              "  .colab-df-quickchart-complete:disabled,\n",
              "  .colab-df-quickchart-complete:disabled:hover {\n",
              "    background-color: var(--disabled-bg-color);\n",
              "    fill: var(--disabled-fill-color);\n",
              "    box-shadow: none;\n",
              "  }\n",
              "\n",
              "  .colab-df-spinner {\n",
              "    border: 2px solid var(--fill-color);\n",
              "    border-color: transparent;\n",
              "    border-bottom-color: var(--fill-color);\n",
              "    animation:\n",
              "      spin 1s steps(1) infinite;\n",
              "  }\n",
              "\n",
              "  @keyframes spin {\n",
              "    0% {\n",
              "      border-color: transparent;\n",
              "      border-bottom-color: var(--fill-color);\n",
              "      border-left-color: var(--fill-color);\n",
              "    }\n",
              "    20% {\n",
              "      border-color: transparent;\n",
              "      border-left-color: var(--fill-color);\n",
              "      border-top-color: var(--fill-color);\n",
              "    }\n",
              "    30% {\n",
              "      border-color: transparent;\n",
              "      border-left-color: var(--fill-color);\n",
              "      border-top-color: var(--fill-color);\n",
              "      border-right-color: var(--fill-color);\n",
              "    }\n",
              "    40% {\n",
              "      border-color: transparent;\n",
              "      border-right-color: var(--fill-color);\n",
              "      border-top-color: var(--fill-color);\n",
              "    }\n",
              "    60% {\n",
              "      border-color: transparent;\n",
              "      border-right-color: var(--fill-color);\n",
              "    }\n",
              "    80% {\n",
              "      border-color: transparent;\n",
              "      border-right-color: var(--fill-color);\n",
              "      border-bottom-color: var(--fill-color);\n",
              "    }\n",
              "    90% {\n",
              "      border-color: transparent;\n",
              "      border-bottom-color: var(--fill-color);\n",
              "    }\n",
              "  }\n",
              "</style>\n",
              "\n",
              "  <script>\n",
              "    async function quickchart(key) {\n",
              "      const quickchartButtonEl =\n",
              "        document.querySelector('#' + key + ' button');\n",
              "      quickchartButtonEl.disabled = true;  // To prevent multiple clicks.\n",
              "      quickchartButtonEl.classList.add('colab-df-spinner');\n",
              "      try {\n",
              "        const charts = await google.colab.kernel.invokeFunction(\n",
              "            'suggestCharts', [key], {});\n",
              "      } catch (error) {\n",
              "        console.error('Error during call to suggestCharts:', error);\n",
              "      }\n",
              "      quickchartButtonEl.classList.remove('colab-df-spinner');\n",
              "      quickchartButtonEl.classList.add('colab-df-quickchart-complete');\n",
              "    }\n",
              "    (() => {\n",
              "      let quickchartButtonEl =\n",
              "        document.querySelector('#df-fa4cdb05-bb02-4e24-86c2-0061c7a4f716 button');\n",
              "      quickchartButtonEl.style.display =\n",
              "        google.colab.kernel.accessAllowed ? 'block' : 'none';\n",
              "    })();\n",
              "  </script>\n",
              "</div>\n",
              "\n",
              "    </div>\n",
              "  </div>\n"
            ],
            "application/vnd.google.colaboratory.intrinsic+json": {
              "type": "dataframe",
              "variable_name": "df",
              "summary": "{\n  \"name\": \"df\",\n  \"rows\": 5000,\n  \"fields\": [\n    {\n      \"column\": \"idade\",\n      \"properties\": {\n        \"dtype\": \"number\",\n        \"std\": 9,\n        \"min\": 18,\n        \"max\": 49,\n        \"num_unique_values\": 32,\n        \"samples\": [\n          44,\n          32,\n          39\n        ],\n        \"semantic_type\": \"\",\n        \"description\": \"\"\n      }\n    },\n    {\n      \"column\": \"sexo\",\n      \"properties\": {\n        \"dtype\": \"category\",\n        \"num_unique_values\": 2,\n        \"samples\": [\n          \"M\",\n          \"F\"\n        ],\n        \"semantic_type\": \"\",\n        \"description\": \"\"\n      }\n    }\n  ]\n}"
            }
          },
          "metadata": {},
          "execution_count": 14
        }
      ]
    },
    {
      "cell_type": "code",
      "execution_count": 16,
      "metadata": {
        "colab": {
          "base_uri": "https://localhost:8080/"
        },
        "id": "-nUmD-ha_dGF",
        "outputId": "b70b0e7d-8d3f-4afc-8a2f-508102b46ee4"
      },
      "outputs": [
        {
          "output_type": "stream",
          "name": "stdout",
          "text": [
            "Média da idade: 33.68\n",
            "Mediana da idade: 34.0\n",
            "Moda da idade: 44\n"
          ]
        }
      ],
      "source": [
        "# Cálculo da média (idade média do grupo)\n",
        "media_idade = df['idade'].mean()\n",
        "print(f\"Média da idade: {media_idade:.2f}\")\n",
        "\n",
        "# Cálculo da mediana (valor central da distribuição de idades)\n",
        "mediana_idade = df['idade'].median()\n",
        "print(f\"Mediana da idade: {mediana_idade}\")\n",
        "\n",
        "# Cálculo da moda (idade mais frequente no grupo)\n",
        "moda_idade = df['idade'].mode()\n",
        "print(f\"Moda da idade: {moda_idade[0]}\")\n"
      ]
    },
    {
      "cell_type": "markdown",
      "source": [
        "### Medidas de Dispersão\n",
        "As medidas de dispersão mostram o grau de variação dos dados.\n",
        "\n",
        "✅ Variância → Mede o quanto os valores diferem da média.\n",
        "\n",
        "✅ Desvio Padrão → Mede a dispersão, mas na mesma unidade dos dados."
      ],
      "metadata": {
        "id": "jUVnHp1XDKOm"
      }
    },
    {
      "cell_type": "code",
      "source": [
        "# Cálculo da variância (mede a dispersão em relação à média)\n",
        "variancia_idade = df['idade'].var()\n",
        "print(f\"Variância da idade: {variancia_idade:.2f}\")\n",
        "\n",
        "# Cálculo do desvio padrão (mede a dispersão na mesma unidade da idade)\n",
        "desvio_padrao_idade = df['idade'].std()\n",
        "print(f\"Desvio Padrão da idade: {desvio_padrao_idade:.2f}\")"
      ],
      "metadata": {
        "colab": {
          "base_uri": "https://localhost:8080/"
        },
        "id": "vaca5G2kCgbL",
        "outputId": "98ba1c71-883f-4bf1-aa9d-04a28c1d3cfb"
      },
      "execution_count": 17,
      "outputs": [
        {
          "output_type": "stream",
          "name": "stdout",
          "text": [
            "Variância da idade: 84.66\n",
            "Desvio Padrão da idade: 9.20\n"
          ]
        }
      ]
    },
    {
      "cell_type": "code",
      "source": [
        "# Interpretação:\n",
        "# Uma variância de 84.66 significa que as idades do dataset estão relativamente\n",
        "# espalhadas, mas para entender melhor essa dispersão, olhamos para o desvio padrão.\n",
        "\n",
        "# Interpretação:\n",
        "# Um desvio padrão de 9.20 indica que a maioria das idades está cerca de\n",
        "# 9 anos acima ou abaixo da média."
      ],
      "metadata": {
        "id": "jp42Cr2kDZcy"
      },
      "execution_count": 18,
      "outputs": []
    },
    {
      "cell_type": "markdown",
      "source": [
        "### Distribuições de Probabilidade\n",
        "🔹 Distribuição Normal da Idade"
      ],
      "metadata": {
        "id": "BxJGSx3mE71g"
      }
    },
    {
      "cell_type": "code",
      "source": [
        "import matplotlib.pyplot as plt\n",
        "import seaborn as sns\n",
        "\n",
        "# Criando um histograma da distribuição das idades\n",
        "sns.histplot(df['idade'], bins=30, kde=True)\n",
        "plt.title(\"Distribuição das Idades no Grupo\")\n",
        "plt.xlabel(\"Idade\")\n",
        "plt.ylabel(\"Frequência\")\n",
        "plt.show()"
      ],
      "metadata": {
        "colab": {
          "base_uri": "https://localhost:8080/",
          "height": 472
        },
        "id": "R4girO--E3BT",
        "outputId": "04fd97c4-9de4-4f91-a813-18a86b21fa61"
      },
      "execution_count": 19,
      "outputs": [
        {
          "output_type": "display_data",
          "data": {
            "text/plain": [
              "<Figure size 640x480 with 1 Axes>"
            ],
            "image/png": "[encoded data removed]"
          },
          "metadata": {}
        }
      ]
    },
    {
      "cell_type": "markdown",
      "source": [
        "### Intervalo de Confiança para a Média da Idade\n",
        "Aqui estimamos um intervalo dentro do qual a média verdadeira da população pode estar com 95% de confiança."
      ],
      "metadata": {
        "id": "wvdcSdV8FD5d"
      }
    },
    {
      "cell_type": "code",
      "source": [
        "import statsmodels.stats.api as sms\n",
        "\n",
        "# Criando um objeto de estatísticas descritivas\n",
        "estatisticas = sms.DescrStatsW(df['idade'])\n",
        "\n",
        "# Calculando o intervalo de confiança de 95%\n",
        "intervalo_conf = estatisticas.tconfint_mean(alpha=0.05)\n",
        "\n",
        "print(f\"Intervalo de Confiança para a média da idade: {intervalo_conf}\")"
      ],
      "metadata": {
        "colab": {
          "base_uri": "https://localhost:8080/"
        },
        "id": "gvsItzOtE_Ri",
        "outputId": "2f901a7b-97ee-4928-c186-7b7436397d4d"
      },
      "execution_count": 20,
      "outputs": [
        {
          "output_type": "stream",
          "name": "stdout",
          "text": [
            "Intervalo de Confiança para a média da idade: (33.42750784919467, 33.93769215080533)\n"
          ]
        }
      ]
    },
    {
      "cell_type": "code",
      "source": [
        "# O que significa esse intervalo?\n",
        "# A média amostral da idade está em torno de 33.68 anos (o ponto médio do intervalo).\n",
        "# Com 95% de confiança, a média da população está entre 33.43 e 33.94 anos.\n",
        "# Se repetíssemos essa amostra muitas vezes, em 95% dos casos, o verdadeiro\n",
        "# valor médio da idade estaria dentro desse intervalo.\n",
        "# Esse intervalo sugere que a média da idade está bem estimada, com pouca margem de erro.\n",
        "# Se quisermos um intervalo mais estreito (mais precisão),\n",
        "# precisaríamos aumentar o tamanho da amostra. 🚀"
      ],
      "metadata": {
        "id": "QW7gHwu5FHGR"
      },
      "execution_count": 21,
      "outputs": []
    },
    {
      "cell_type": "markdown",
      "source": [
        "### Teste de Hipóteses:\n",
        "Comparação da Média da Idade Entre Homens e Mulheres\n",
        "Verificamos se a idade média dos homens e das mulheres é estatisticamente diferente."
      ],
      "metadata": {
        "id": "WE144zpmFa1W"
      }
    },
    {
      "cell_type": "code",
      "source": [
        "# Separando os grupos por sexo\n",
        "homens = df[df['sexo'] == 'M']['idade']\n",
        "mulheres = df[df['sexo'] == 'F']['idade']\n",
        "\n",
        "# Realizando o teste T para comparar as médias\n",
        "t_stat, p_valor, df = sm.stats.ttest_ind(homens, mulheres)\n",
        "\n",
        "print(f\"Estatística T: {t_stat:.4f}, p-valor: {p_valor:.4f}\")\n",
        "\n",
        "# Interpretando o resultado\n",
        "if p_valor < 0.05:\n",
        "    print(\"Rejeitamos H₀: A média das idades entre homens e mulheres é significativamente diferente.\")\n",
        "else:\n",
        "    print(\"Não rejeitamos H₀: Não há diferença significativa entre as idades dos grupos.\")"
      ],
      "metadata": {
        "colab": {
          "base_uri": "https://localhost:8080/"
        },
        "id": "OJum1tDUFSQq",
        "outputId": "c34f8483-e6e8-4352-baf1-b6132c151c94"
      },
      "execution_count": 23,
      "outputs": [
        {
          "output_type": "stream",
          "name": "stdout",
          "text": [
            "Estatística T: 0.6838, p-valor: 0.4941\n",
            "Não rejeitamos H₀: Não há diferença significativa entre as idades dos grupos.\n"
          ]
        }
      ]
    },
    {
      "cell_type": "markdown",
      "source": [
        "### Teste A/B"
      ],
      "metadata": {
        "id": "X2f_keuNGavV"
      }
    },
    {
      "cell_type": "code",
      "source": [
        "import numpy as np\n",
        "import pandas as pd\n",
        "\n",
        "# Definindo o número de usuários no experimento\n",
        "n_linhas = 5000\n",
        "\n",
        "# Criando um grupo aleatório (50% dos usuários em A, 50% em B)\n",
        "grupos = np.random.choice(['A', 'B'], size=n_linhas)\n",
        "\n",
        "# Simulando taxas de conversão para cada grupo (grupo B tem conversão ligeiramente maior)\n",
        "conversao = np.where(grupos == 'A',\n",
        "                     np.random.choice([0, 1], size=n_linhas, p=[0.90, 0.10]),  # Grupo A: 10% de conversão\n",
        "                     np.random.choice([0, 1], size=n_linhas, p=[0.85, 0.15]))  # Grupo B: 15% de conversão\n",
        "\n",
        "# Criando o DataFrame\n",
        "df_ab = pd.DataFrame({'grupo': grupos, 'conversao': conversao})\n",
        "\n",
        "# Exibindo as primeiras linhas\n",
        "print(df_ab.head())\n"
      ],
      "metadata": {
        "colab": {
          "base_uri": "https://localhost:8080/"
        },
        "id": "tfeYzHW-FrFa",
        "outputId": "60594e6f-9bcb-4dfe-9655-4746a07f3e86"
      },
      "execution_count": 24,
      "outputs": [
        {
          "output_type": "stream",
          "name": "stdout",
          "text": [
            "  grupo  conversao\n",
            "0     A          0\n",
            "1     B          0\n",
            "2     A          0\n",
            "3     A          0\n",
            "4     A          0\n"
          ]
        }
      ]
    },
    {
      "cell_type": "code",
      "source": [
        "# O que é Taxa de Conversão no Teste A/B?\n",
        "# A taxa de conversão em um teste A/B mede quantos usuários realizaram uma\n",
        "# ação desejada (exemplo: clique, compra, cadastro) em relação ao número\n",
        "# total de usuários expostos a uma variação do experimento."
      ],
      "metadata": {
        "id": "D3h2iAQjHYnr"
      },
      "execution_count": null,
      "outputs": []
    },
    {
      "cell_type": "code",
      "source": [
        "# Calculando a taxa de conversão para cada grupo\n",
        "taxa_conversao = df_ab.groupby('grupo')['conversao'].mean()\n",
        "\n",
        "print(\"Taxa de conversão por grupo:\")\n",
        "print(taxa_conversao)\n"
      ],
      "metadata": {
        "colab": {
          "base_uri": "https://localhost:8080/"
        },
        "id": "i7NgWuKSGhPU",
        "outputId": "779fe740-5c0e-4a06-d043-90623709bc94"
      },
      "execution_count": 25,
      "outputs": [
        {
          "output_type": "stream",
          "name": "stdout",
          "text": [
            "Taxa de conversão por grupo:\n",
            "grupo\n",
            "A    0.090729\n",
            "B    0.163166\n",
            "Name: conversao, dtype: float64\n"
          ]
        }
      ]
    },
    {
      "cell_type": "markdown",
      "source": [
        "### Analisando as Taxas de Conversão"
      ],
      "metadata": {
        "id": "lqx2GXkbGwTz"
      }
    },
    {
      "cell_type": "code",
      "source": [
        "# Calculando a taxa de conversão para cada grupo\n",
        "taxa_conversao = df_ab.groupby('grupo')['conversao'].mean()\n",
        "\n",
        "print(\"Taxa de conversão por grupo:\")\n",
        "print(taxa_conversao)\n"
      ],
      "metadata": {
        "colab": {
          "base_uri": "https://localhost:8080/"
        },
        "id": "_2tEuUoRGvQa",
        "outputId": "8041e711-db1f-49e1-c1ba-d55b432627a7"
      },
      "execution_count": 26,
      "outputs": [
        {
          "output_type": "stream",
          "name": "stdout",
          "text": [
            "Taxa de conversão por grupo:\n",
            "grupo\n",
            "A    0.090729\n",
            "B    0.163166\n",
            "Name: conversao, dtype: float64\n"
          ]
        }
      ]
    },
    {
      "cell_type": "markdown",
      "source": [
        "### Teste A/B: Comparação das Taxas de Conversão\n",
        "Agora aplicamos um Teste T para verificar se há diferença significativa entre as taxas de conversão dos dois grupos."
      ],
      "metadata": {
        "id": "0MYzUdxmG08P"
      }
    },
    {
      "cell_type": "code",
      "source": [
        "import statsmodels.api as sm\n",
        "\n",
        "# Separando as conversões dos dois grupos\n",
        "grupo_A = df_ab[df_ab['grupo'] == 'A']['conversao']\n",
        "grupo_B = df_ab[df_ab['grupo'] == 'B']['conversao']\n",
        "\n",
        "# Aplicando o Teste T\n",
        "t_stat, p_valor, df = sm.stats.ttest_ind(grupo_A, grupo_B)\n",
        "\n",
        "print(f\"Estatística T: {t_stat:.4f}, p-valor: {p_valor:.4f}\")\n",
        "\n",
        "# Interpretando o resultado\n",
        "if p_valor < 0.05:\n",
        "    print(\"Rejeitamos H₀: A nova campanha (Grupo B) teve um impacto significativo na conversão.\")\n",
        "else:\n",
        "    print(\"Não rejeitamos H₀: Não há evidência estatística de que a nova campanha alterou a conversão.\")\n"
      ],
      "metadata": {
        "colab": {
          "base_uri": "https://localhost:8080/"
        },
        "id": "B0hhnmiQGypC",
        "outputId": "7c0ad6a8-3b0a-453e-c56a-99b82030bba0"
      },
      "execution_count": 28,
      "outputs": [
        {
          "output_type": "stream",
          "name": "stdout",
          "text": [
            "Estatística T: -7.7460, p-valor: 0.0000\n",
            "Rejeitamos H₀: A nova campanha (Grupo B) teve um impacto significativo na conversão.\n"
          ]
        }
      ]
    }
  ]
}