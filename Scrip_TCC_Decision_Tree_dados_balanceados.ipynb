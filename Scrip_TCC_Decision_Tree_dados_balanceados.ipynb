{
  "nbformat": 4,
  "nbformat_minor": 0,
  "metadata": {
    "colab": {
      "name": "Scrip_TCC_Decision_Tree.ipynb",
      "provenance": [],
      "collapsed_sections": [],
      "authorship_tag": "ABX9TyOtY1sBgE+XjVK+w1fj6I6/",
      "include_colab_link": true
    },
    "kernelspec": {
      "name": "python3",
      "display_name": "Python 3"
    },
    "language_info": {
      "name": "python"
    }
  },
  "cells": [
    {
      "cell_type": "markdown",
      "metadata": {
        "id": "view-in-github",
        "colab_type": "text"
      },
      "source": [
        "<a href=\"https://colab.research.google.com/github/MpRonald/C/blob/main/Scrip_TCC_Decision_Tree_dados_balanceados.ipynb\" target=\"_parent\"><img src=\"https://colab.research.google.com/assets/colab-badge.svg\" alt=\"Open In Colab\"/></a>"
      ]
    },
    {
      "cell_type": "markdown",
      "source": [
        "#### Local onde foi baixado o dataset<br>\n",
        "https://archive.ics.uci.edu/ml/machine-learning-databases/00222/\n",
        "<br>\n",
        "#### Link do raw do GitHub<br>\n",
        "https://raw.githubusercontent.com/MpRonald/TCC/main/bank-full.csv"
      ],
      "metadata": {
        "id": "zk6Pj9-5ozqR"
      }
    },
    {
      "cell_type": "code",
      "source": [
        "# conectando o drive\n",
        "from google.colab import drive\n",
        "drive.mount('/content/drive')"
      ],
      "metadata": {
        "id": "RqEg5GwGVR_K",
        "colab": {
          "base_uri": "https://localhost:8080/"
        },
        "outputId": "7e8a5b34-4f39-4674-dc54-50fc77f25759"
      },
      "execution_count": 1,
      "outputs": [
        {
          "output_type": "stream",
          "name": "stdout",
          "text": [
            "Drive already mounted at /content/drive; to attempt to forcibly remount, call drive.mount(\"/content/drive\", force_remount=True).\n"
          ]
        }
      ]
    },
    {
      "cell_type": "code",
      "execution_count": 2,
      "metadata": {
        "id": "SzRGgGTgSIRs"
      },
      "outputs": [],
      "source": [
        "# imports\n",
        "import pandas as pd\n",
        "import matplotlib.pyplot as plt\n",
        "import seaborn as sns\n",
        "import numpy as np\n",
        "\n",
        "\n",
        "import pydot # 0.5\n",
        "import graphviz # 0.5\n",
        "\n",
        "from sklearn import tree\n",
        "from sklearn.model_selection import train_test_split, cross_val_score, StratifiedShuffleSplit\n",
        "from sklearn.tree import DecisionTreeClassifier, export_graphviz \n",
        "from sklearn.preprocessing import LabelEncoder, StandardScaler, OneHotEncoder\n",
        "from sklearn.compose import ColumnTransformer\n",
        "from sklearn.metrics import (accuracy_score, plot_confusion_matrix, classification_report, \n",
        "                             roc_curve, roc_auc_score, mean_squared_error, precision_score, confusion_matrix)\n",
        "from sklearn import metrics\n",
        "from imblearn.under_sampling import RandomUnderSampler\n",
        "from sklearn.neighbors import KNeighborsClassifier\n",
        "%matplotlib inline\n",
        "\n",
        "import warnings\n",
        "warnings.filterwarnings('ignore')"
      ]
    },
    {
      "cell_type": "code",
      "source": [
        "# lendo dataset (diponível no GitHub) **\n",
        "url = 'https://raw.githubusercontent.com/MpRonald/datasets/main/bank-full.csv'\n",
        "dataset = pd.read_csv(url, sep=';')\n",
        "data = dataset.drop(['duration'], axis=1)\n",
        "data.head(10)"
      ],
      "metadata": {
        "id": "zLggRmQoeb4w",
        "colab": {
          "base_uri": "https://localhost:8080/",
          "height": 363
        },
        "outputId": "c7b13902-a9e1-4753-cd0c-e097630a59fc"
      },
      "execution_count": 3,
      "outputs": [
        {
          "output_type": "execute_result",
          "data": {
            "text/html": [
              "\n",
              "  <div id=\"df-7914d3e9-6cad-4ec0-86a6-fe95042acdfb\">\n",
              "    <div class=\"colab-df-container\">\n",
              "      <div>\n",
              "<style scoped>\n",
              "    .dataframe tbody tr th:only-of-type {\n",
              "        vertical-align: middle;\n",
              "    }\n",
              "\n",
              "    .dataframe tbody tr th {\n",
              "        vertical-align: top;\n",
              "    }\n",
              "\n",
              "    .dataframe thead th {\n",
              "        text-align: right;\n",
              "    }\n",
              "</style>\n",
              "<table border=\"1\" class=\"dataframe\">\n",
              "  <thead>\n",
              "    <tr style=\"text-align: right;\">\n",
              "      <th></th>\n",
              "      <th>age</th>\n",
              "      <th>job</th>\n",
              "      <th>marital</th>\n",
              "      <th>education</th>\n",
              "      <th>default</th>\n",
              "      <th>balance</th>\n",
              "      <th>housing</th>\n",
              "      <th>loan</th>\n",
              "      <th>contact</th>\n",
              "      <th>day</th>\n",
              "      <th>month</th>\n",
              "      <th>campaign</th>\n",
              "      <th>pdays</th>\n",
              "      <th>previous</th>\n",
              "      <th>poutcome</th>\n",
              "      <th>y</th>\n",
              "    </tr>\n",
              "  </thead>\n",
              "  <tbody>\n",
              "    <tr>\n",
              "      <th>0</th>\n",
              "      <td>58</td>\n",
              "      <td>management</td>\n",
              "      <td>married</td>\n",
              "      <td>tertiary</td>\n",
              "      <td>no</td>\n",
              "      <td>2143</td>\n",
              "      <td>yes</td>\n",
              "      <td>no</td>\n",
              "      <td>unknown</td>\n",
              "      <td>5</td>\n",
              "      <td>may</td>\n",
              "      <td>1</td>\n",
              "      <td>-1</td>\n",
              "      <td>0</td>\n",
              "      <td>unknown</td>\n",
              "      <td>no</td>\n",
              "    </tr>\n",
              "    <tr>\n",
              "      <th>1</th>\n",
              "      <td>44</td>\n",
              "      <td>technician</td>\n",
              "      <td>single</td>\n",
              "      <td>secondary</td>\n",
              "      <td>no</td>\n",
              "      <td>29</td>\n",
              "      <td>yes</td>\n",
              "      <td>no</td>\n",
              "      <td>unknown</td>\n",
              "      <td>5</td>\n",
              "      <td>may</td>\n",
              "      <td>1</td>\n",
              "      <td>-1</td>\n",
              "      <td>0</td>\n",
              "      <td>unknown</td>\n",
              "      <td>no</td>\n",
              "    </tr>\n",
              "    <tr>\n",
              "      <th>2</th>\n",
              "      <td>33</td>\n",
              "      <td>entrepreneur</td>\n",
              "      <td>married</td>\n",
              "      <td>secondary</td>\n",
              "      <td>no</td>\n",
              "      <td>2</td>\n",
              "      <td>yes</td>\n",
              "      <td>yes</td>\n",
              "      <td>unknown</td>\n",
              "      <td>5</td>\n",
              "      <td>may</td>\n",
              "      <td>1</td>\n",
              "      <td>-1</td>\n",
              "      <td>0</td>\n",
              "      <td>unknown</td>\n",
              "      <td>no</td>\n",
              "    </tr>\n",
              "    <tr>\n",
              "      <th>3</th>\n",
              "      <td>47</td>\n",
              "      <td>blue-collar</td>\n",
              "      <td>married</td>\n",
              "      <td>unknown</td>\n",
              "      <td>no</td>\n",
              "      <td>1506</td>\n",
              "      <td>yes</td>\n",
              "      <td>no</td>\n",
              "      <td>unknown</td>\n",
              "      <td>5</td>\n",
              "      <td>may</td>\n",
              "      <td>1</td>\n",
              "      <td>-1</td>\n",
              "      <td>0</td>\n",
              "      <td>unknown</td>\n",
              "      <td>no</td>\n",
              "    </tr>\n",
              "    <tr>\n",
              "      <th>4</th>\n",
              "      <td>33</td>\n",
              "      <td>unknown</td>\n",
              "      <td>single</td>\n",
              "      <td>unknown</td>\n",
              "      <td>no</td>\n",
              "      <td>1</td>\n",
              "      <td>no</td>\n",
              "      <td>no</td>\n",
              "      <td>unknown</td>\n",
              "      <td>5</td>\n",
              "      <td>may</td>\n",
              "      <td>1</td>\n",
              "      <td>-1</td>\n",
              "      <td>0</td>\n",
              "      <td>unknown</td>\n",
              "      <td>no</td>\n",
              "    </tr>\n",
              "    <tr>\n",
              "      <th>5</th>\n",
              "      <td>35</td>\n",
              "      <td>management</td>\n",
              "      <td>married</td>\n",
              "      <td>tertiary</td>\n",
              "      <td>no</td>\n",
              "      <td>231</td>\n",
              "      <td>yes</td>\n",
              "      <td>no</td>\n",
              "      <td>unknown</td>\n",
              "      <td>5</td>\n",
              "      <td>may</td>\n",
              "      <td>1</td>\n",
              "      <td>-1</td>\n",
              "      <td>0</td>\n",
              "      <td>unknown</td>\n",
              "      <td>no</td>\n",
              "    </tr>\n",
              "    <tr>\n",
              "      <th>6</th>\n",
              "      <td>28</td>\n",
              "      <td>management</td>\n",
              "      <td>single</td>\n",
              "      <td>tertiary</td>\n",
              "      <td>no</td>\n",
              "      <td>447</td>\n",
              "      <td>yes</td>\n",
              "      <td>yes</td>\n",
              "      <td>unknown</td>\n",
              "      <td>5</td>\n",
              "      <td>may</td>\n",
              "      <td>1</td>\n",
              "      <td>-1</td>\n",
              "      <td>0</td>\n",
              "      <td>unknown</td>\n",
              "      <td>no</td>\n",
              "    </tr>\n",
              "    <tr>\n",
              "      <th>7</th>\n",
              "      <td>42</td>\n",
              "      <td>entrepreneur</td>\n",
              "      <td>divorced</td>\n",
              "      <td>tertiary</td>\n",
              "      <td>yes</td>\n",
              "      <td>2</td>\n",
              "      <td>yes</td>\n",
              "      <td>no</td>\n",
              "      <td>unknown</td>\n",
              "      <td>5</td>\n",
              "      <td>may</td>\n",
              "      <td>1</td>\n",
              "      <td>-1</td>\n",
              "      <td>0</td>\n",
              "      <td>unknown</td>\n",
              "      <td>no</td>\n",
              "    </tr>\n",
              "    <tr>\n",
              "      <th>8</th>\n",
              "      <td>58</td>\n",
              "      <td>retired</td>\n",
              "      <td>married</td>\n",
              "      <td>primary</td>\n",
              "      <td>no</td>\n",
              "      <td>121</td>\n",
              "      <td>yes</td>\n",
              "      <td>no</td>\n",
              "      <td>unknown</td>\n",
              "      <td>5</td>\n",
              "      <td>may</td>\n",
              "      <td>1</td>\n",
              "      <td>-1</td>\n",
              "      <td>0</td>\n",
              "      <td>unknown</td>\n",
              "      <td>no</td>\n",
              "    </tr>\n",
              "    <tr>\n",
              "      <th>9</th>\n",
              "      <td>43</td>\n",
              "      <td>technician</td>\n",
              "      <td>single</td>\n",
              "      <td>secondary</td>\n",
              "      <td>no</td>\n",
              "      <td>593</td>\n",
              "      <td>yes</td>\n",
              "      <td>no</td>\n",
              "      <td>unknown</td>\n",
              "      <td>5</td>\n",
              "      <td>may</td>\n",
              "      <td>1</td>\n",
              "      <td>-1</td>\n",
              "      <td>0</td>\n",
              "      <td>unknown</td>\n",
              "      <td>no</td>\n",
              "    </tr>\n",
              "  </tbody>\n",
              "</table>\n",
              "</div>\n",
              "      <button class=\"colab-df-convert\" onclick=\"convertToInteractive('df-7914d3e9-6cad-4ec0-86a6-fe95042acdfb')\"\n",
              "              title=\"Convert this dataframe to an interactive table.\"\n",
              "              style=\"display:none;\">\n",
              "        \n",
              "  <svg xmlns=\"http://www.w3.org/2000/svg\" height=\"24px\"viewBox=\"0 0 24 24\"\n",
              "       width=\"24px\">\n",
              "    <path d=\"M0 0h24v24H0V0z\" fill=\"none\"/>\n",
              "    <path d=\"M18.56 5.44l.94 2.06.94-2.06 2.06-.94-2.06-.94-.94-2.06-.94 2.06-2.06.94zm-11 1L8.5 8.5l.94-2.06 2.06-.94-2.06-.94L8.5 2.5l-.94 2.06-2.06.94zm10 10l.94 2.06.94-2.06 2.06-.94-2.06-.94-.94-2.06-.94 2.06-2.06.94z\"/><path d=\"M17.41 7.96l-1.37-1.37c-.4-.4-.92-.59-1.43-.59-.52 0-1.04.2-1.43.59L10.3 9.45l-7.72 7.72c-.78.78-.78 2.05 0 2.83L4 21.41c.39.39.9.59 1.41.59.51 0 1.02-.2 1.41-.59l7.78-7.78 2.81-2.81c.8-.78.8-2.07 0-2.86zM5.41 20L4 18.59l7.72-7.72 1.47 1.35L5.41 20z\"/>\n",
              "  </svg>\n",
              "      </button>\n",
              "      \n",
              "  <style>\n",
              "    .colab-df-container {\n",
              "      display:flex;\n",
              "      flex-wrap:wrap;\n",
              "      gap: 12px;\n",
              "    }\n",
              "\n",
              "    .colab-df-convert {\n",
              "      background-color: #E8F0FE;\n",
              "      border: none;\n",
              "      border-radius: 50%;\n",
              "      cursor: pointer;\n",
              "      display: none;\n",
              "      fill: #1967D2;\n",
              "      height: 32px;\n",
              "      padding: 0 0 0 0;\n",
              "      width: 32px;\n",
              "    }\n",
              "\n",
              "    .colab-df-convert:hover {\n",
              "      background-color: #E2EBFA;\n",
              "      box-shadow: 0px 1px 2px rgba(60, 64, 67, 0.3), 0px 1px 3px 1px rgba(60, 64, 67, 0.15);\n",
              "      fill: #174EA6;\n",
              "    }\n",
              "\n",
              "    [theme=dark] .colab-df-convert {\n",
              "      background-color: #3B4455;\n",
              "      fill: #D2E3FC;\n",
              "    }\n",
              "\n",
              "    [theme=dark] .colab-df-convert:hover {\n",
              "      background-color: #434B5C;\n",
              "      box-shadow: 0px 1px 3px 1px rgba(0, 0, 0, 0.15);\n",
              "      filter: drop-shadow(0px 1px 2px rgba(0, 0, 0, 0.3));\n",
              "      fill: #FFFFFF;\n",
              "    }\n",
              "  </style>\n",
              "\n",
              "      <script>\n",
              "        const buttonEl =\n",
              "          document.querySelector('#df-7914d3e9-6cad-4ec0-86a6-fe95042acdfb button.colab-df-convert');\n",
              "        buttonEl.style.display =\n",
              "          google.colab.kernel.accessAllowed ? 'block' : 'none';\n",
              "\n",
              "        async function convertToInteractive(key) {\n",
              "          const element = document.querySelector('#df-7914d3e9-6cad-4ec0-86a6-fe95042acdfb');\n",
              "          const dataTable =\n",
              "            await google.colab.kernel.invokeFunction('convertToInteractive',\n",
              "                                                     [key], {});\n",
              "          if (!dataTable) return;\n",
              "\n",
              "          const docLinkHtml = 'Like what you see? Visit the ' +\n",
              "            '<a target=\"_blank\" href=https://colab.research.google.com/notebooks/data_table.ipynb>data table notebook</a>'\n",
              "            + ' to learn more about interactive tables.';\n",
              "          element.innerHTML = '';\n",
              "          dataTable['output_type'] = 'display_data';\n",
              "          await google.colab.output.renderOutput(dataTable, element);\n",
              "          const docLink = document.createElement('div');\n",
              "          docLink.innerHTML = docLinkHtml;\n",
              "          element.appendChild(docLink);\n",
              "        }\n",
              "      </script>\n",
              "    </div>\n",
              "  </div>\n",
              "  "
            ],
            "text/plain": [
              "   age           job   marital  education  ... pdays  previous poutcome   y\n",
              "0   58    management   married   tertiary  ...    -1         0  unknown  no\n",
              "1   44    technician    single  secondary  ...    -1         0  unknown  no\n",
              "2   33  entrepreneur   married  secondary  ...    -1         0  unknown  no\n",
              "3   47   blue-collar   married    unknown  ...    -1         0  unknown  no\n",
              "4   33       unknown    single    unknown  ...    -1         0  unknown  no\n",
              "5   35    management   married   tertiary  ...    -1         0  unknown  no\n",
              "6   28    management    single   tertiary  ...    -1         0  unknown  no\n",
              "7   42  entrepreneur  divorced   tertiary  ...    -1         0  unknown  no\n",
              "8   58       retired   married    primary  ...    -1         0  unknown  no\n",
              "9   43    technician    single  secondary  ...    -1         0  unknown  no\n",
              "\n",
              "[10 rows x 16 columns]"
            ]
          },
          "metadata": {},
          "execution_count": 3
        }
      ]
    },
    {
      "cell_type": "markdown",
      "source": [
        "_______________________________________________________________________\n",
        "# Dados do cliente do banco:\n",
        "*  1 - age: Idade do cliente\n",
        "*  2 - job: Tipo de trabalho (\"admin.\",\"blue-collar\",\"entrepreneur\",\"housemaid\",\"management\",\"retired\",\"self-employed\",\"services\",\"student\",\"technician\",\"unemployed\",\"unknown\")\n",
        "*  3 - marital: Estado Civil (\"divorced\",\"married\",\"single\",\"unknown\"; note: \"divorced\" means divorced or widowed)\n",
        "*  4 - education: Escolaridade (\"basic.4y\",\"basic.6y\",\"basic.9y\",\"high.school\",\"illiterate\",\"professional.course\",\"university.degree\",\"unknown\")\n",
        "*  5 - default: Inadimplência, tem crédito inadimplente? (\"no\", \"yes\", \"unknown\")\n",
        "*  6 - balance: saldo da conta do cliente\n",
        "*  7 - housing: Habitação: tem crédito habitação? (\"no\",\"yes\",\"unknown\")\n",
        "*  8 - loan: Empréstimo, tem empréstimo pessoal? (\"no\", \"yes\", \"unknown\")\n",
        "\n",
        "# Relacionado com o último contato da campanha atual:\n",
        "*  9 - contact: contato, tipo de comunicação de contato (\"cellular\",\"telephone\")\n",
        "*  10 - month: mês, último mês de contato do ano (\"jan\", \"feb\", \"mar\", ..., \"nov\", \"dec\")\n",
        "*  11 - day: Dia do Mês, último dia de contato do mês(1, 2, 3 ... 29, 30, 31)\n",
        "*  12 - duration: duração, duração do último contato, em segundos. Observação importante: esse atributo afeta muito o destino de saída (por exemplo, se duração=0, então y=\"no\"). No entanto, a duração não é conhecida antes de uma chamada ser realizada. Além disso, após o término da chamada, y é obviamente conhecido. Assim, essa entrada deve ser incluída apenas para fins de benchmark e deve ser descartada se a intenção for ter um modelo preditivo realista.\n",
        "\n",
        "# Outros Atributos:\n",
        "*  13 - campaign: campanha, número de contatos realizados durante esta campanha e para este cliente(inclui último contato)\n",
        "*  14 - pdays: número de dias que se passaram após o último contato com o cliente de uma campanha anterior (-1 significa que o cliente não foi contatado anteriormente)\n",
        "*  15 - previous: número de contatos realizados antes desta campanha e para este cliente \n",
        "*  16 - poutcome: resultado da campanha de marketing anterior (\"failure\",\"nonexistent\",\"success\")\n",
        "  \n",
        "# Variável de saída (destino desejado):\n",
        "*  17 - y: o cliente atrasou um depósito a prazo? (binário: \"sim\", \"não\")"
      ],
      "metadata": {
        "id": "0vvfSARbTZ_4"
      }
    },
    {
      "cell_type": "markdown",
      "source": [
        "_______________________________________________________________________\n",
        "<font size=6 color='white' font ><b>Analise Exploratória de Dados\n",
        "\n"
      ],
      "metadata": {
        "id": "9y2ewuxDUOPt"
      }
    },
    {
      "cell_type": "markdown",
      "source": [
        "# Verificando dataframe"
      ],
      "metadata": {
        "id": "e_WgitYDqiq5"
      }
    },
    {
      "cell_type": "code",
      "source": [
        "# verificando o numero de colunas e linhas**\n",
        "data.shape"
      ],
      "metadata": {
        "id": "oqmmha0wgLv-",
        "colab": {
          "base_uri": "https://localhost:8080/"
        },
        "outputId": "7836a30a-9010-4e6a-8f22-c6d6170865d5"
      },
      "execution_count": 4,
      "outputs": [
        {
          "output_type": "execute_result",
          "data": {
            "text/plain": [
              "(45211, 16)"
            ]
          },
          "metadata": {},
          "execution_count": 4
        }
      ]
    },
    {
      "cell_type": "code",
      "source": [
        "# verificando os nomes das colunas**\n",
        "data.columns"
      ],
      "metadata": {
        "id": "ERxv_n8bgT4Y",
        "colab": {
          "base_uri": "https://localhost:8080/"
        },
        "outputId": "34bb139c-1eae-4005-b54e-c9aab231dc00"
      },
      "execution_count": 5,
      "outputs": [
        {
          "output_type": "execute_result",
          "data": {
            "text/plain": [
              "Index(['age', 'job', 'marital', 'education', 'default', 'balance', 'housing',\n",
              "       'loan', 'contact', 'day', 'month', 'campaign', 'pdays', 'previous',\n",
              "       'poutcome', 'y'],\n",
              "      dtype='object')"
            ]
          },
          "metadata": {},
          "execution_count": 5
        }
      ]
    },
    {
      "cell_type": "code",
      "source": [
        "# verificando media, desvio padrao, menor valor, quartis, maior valor de cada coluna numérica**\n",
        "data.describe().T"
      ],
      "metadata": {
        "id": "Ob39A4xPgWtZ",
        "colab": {
          "base_uri": "https://localhost:8080/",
          "height": 238
        },
        "outputId": "07cc1e5d-e4be-46ab-af79-6557bdd88fa7"
      },
      "execution_count": 6,
      "outputs": [
        {
          "output_type": "execute_result",
          "data": {
            "text/html": [
              "\n",
              "  <div id=\"df-86910bfa-76bf-42b0-bc08-3a7e7249e242\">\n",
              "    <div class=\"colab-df-container\">\n",
              "      <div>\n",
              "<style scoped>\n",
              "    .dataframe tbody tr th:only-of-type {\n",
              "        vertical-align: middle;\n",
              "    }\n",
              "\n",
              "    .dataframe tbody tr th {\n",
              "        vertical-align: top;\n",
              "    }\n",
              "\n",
              "    .dataframe thead th {\n",
              "        text-align: right;\n",
              "    }\n",
              "</style>\n",
              "<table border=\"1\" class=\"dataframe\">\n",
              "  <thead>\n",
              "    <tr style=\"text-align: right;\">\n",
              "      <th></th>\n",
              "      <th>count</th>\n",
              "      <th>mean</th>\n",
              "      <th>std</th>\n",
              "      <th>min</th>\n",
              "      <th>25%</th>\n",
              "      <th>50%</th>\n",
              "      <th>75%</th>\n",
              "      <th>max</th>\n",
              "    </tr>\n",
              "  </thead>\n",
              "  <tbody>\n",
              "    <tr>\n",
              "      <th>age</th>\n",
              "      <td>45211.0</td>\n",
              "      <td>40.936210</td>\n",
              "      <td>10.618762</td>\n",
              "      <td>18.0</td>\n",
              "      <td>33.0</td>\n",
              "      <td>39.0</td>\n",
              "      <td>48.0</td>\n",
              "      <td>95.0</td>\n",
              "    </tr>\n",
              "    <tr>\n",
              "      <th>balance</th>\n",
              "      <td>45211.0</td>\n",
              "      <td>1362.272058</td>\n",
              "      <td>3044.765829</td>\n",
              "      <td>-8019.0</td>\n",
              "      <td>72.0</td>\n",
              "      <td>448.0</td>\n",
              "      <td>1428.0</td>\n",
              "      <td>102127.0</td>\n",
              "    </tr>\n",
              "    <tr>\n",
              "      <th>day</th>\n",
              "      <td>45211.0</td>\n",
              "      <td>15.806419</td>\n",
              "      <td>8.322476</td>\n",
              "      <td>1.0</td>\n",
              "      <td>8.0</td>\n",
              "      <td>16.0</td>\n",
              "      <td>21.0</td>\n",
              "      <td>31.0</td>\n",
              "    </tr>\n",
              "    <tr>\n",
              "      <th>campaign</th>\n",
              "      <td>45211.0</td>\n",
              "      <td>2.763841</td>\n",
              "      <td>3.098021</td>\n",
              "      <td>1.0</td>\n",
              "      <td>1.0</td>\n",
              "      <td>2.0</td>\n",
              "      <td>3.0</td>\n",
              "      <td>63.0</td>\n",
              "    </tr>\n",
              "    <tr>\n",
              "      <th>pdays</th>\n",
              "      <td>45211.0</td>\n",
              "      <td>40.197828</td>\n",
              "      <td>100.128746</td>\n",
              "      <td>-1.0</td>\n",
              "      <td>-1.0</td>\n",
              "      <td>-1.0</td>\n",
              "      <td>-1.0</td>\n",
              "      <td>871.0</td>\n",
              "    </tr>\n",
              "    <tr>\n",
              "      <th>previous</th>\n",
              "      <td>45211.0</td>\n",
              "      <td>0.580323</td>\n",
              "      <td>2.303441</td>\n",
              "      <td>0.0</td>\n",
              "      <td>0.0</td>\n",
              "      <td>0.0</td>\n",
              "      <td>0.0</td>\n",
              "      <td>275.0</td>\n",
              "    </tr>\n",
              "  </tbody>\n",
              "</table>\n",
              "</div>\n",
              "      <button class=\"colab-df-convert\" onclick=\"convertToInteractive('df-86910bfa-76bf-42b0-bc08-3a7e7249e242')\"\n",
              "              title=\"Convert this dataframe to an interactive table.\"\n",
              "              style=\"display:none;\">\n",
              "        \n",
              "  <svg xmlns=\"http://www.w3.org/2000/svg\" height=\"24px\"viewBox=\"0 0 24 24\"\n",
              "       width=\"24px\">\n",
              "    <path d=\"M0 0h24v24H0V0z\" fill=\"none\"/>\n",
              "    <path d=\"M18.56 5.44l.94 2.06.94-2.06 2.06-.94-2.06-.94-.94-2.06-.94 2.06-2.06.94zm-11 1L8.5 8.5l.94-2.06 2.06-.94-2.06-.94L8.5 2.5l-.94 2.06-2.06.94zm10 10l.94 2.06.94-2.06 2.06-.94-2.06-.94-.94-2.06-.94 2.06-2.06.94z\"/><path d=\"M17.41 7.96l-1.37-1.37c-.4-.4-.92-.59-1.43-.59-.52 0-1.04.2-1.43.59L10.3 9.45l-7.72 7.72c-.78.78-.78 2.05 0 2.83L4 21.41c.39.39.9.59 1.41.59.51 0 1.02-.2 1.41-.59l7.78-7.78 2.81-2.81c.8-.78.8-2.07 0-2.86zM5.41 20L4 18.59l7.72-7.72 1.47 1.35L5.41 20z\"/>\n",
              "  </svg>\n",
              "      </button>\n",
              "      \n",
              "  <style>\n",
              "    .colab-df-container {\n",
              "      display:flex;\n",
              "      flex-wrap:wrap;\n",
              "      gap: 12px;\n",
              "    }\n",
              "\n",
              "    .colab-df-convert {\n",
              "      background-color: #E8F0FE;\n",
              "      border: none;\n",
              "      border-radius: 50%;\n",
              "      cursor: pointer;\n",
              "      display: none;\n",
              "      fill: #1967D2;\n",
              "      height: 32px;\n",
              "      padding: 0 0 0 0;\n",
              "      width: 32px;\n",
              "    }\n",
              "\n",
              "    .colab-df-convert:hover {\n",
              "      background-color: #E2EBFA;\n",
              "      box-shadow: 0px 1px 2px rgba(60, 64, 67, 0.3), 0px 1px 3px 1px rgba(60, 64, 67, 0.15);\n",
              "      fill: #174EA6;\n",
              "    }\n",
              "\n",
              "    [theme=dark] .colab-df-convert {\n",
              "      background-color: #3B4455;\n",
              "      fill: #D2E3FC;\n",
              "    }\n",
              "\n",
              "    [theme=dark] .colab-df-convert:hover {\n",
              "      background-color: #434B5C;\n",
              "      box-shadow: 0px 1px 3px 1px rgba(0, 0, 0, 0.15);\n",
              "      filter: drop-shadow(0px 1px 2px rgba(0, 0, 0, 0.3));\n",
              "      fill: #FFFFFF;\n",
              "    }\n",
              "  </style>\n",
              "\n",
              "      <script>\n",
              "        const buttonEl =\n",
              "          document.querySelector('#df-86910bfa-76bf-42b0-bc08-3a7e7249e242 button.colab-df-convert');\n",
              "        buttonEl.style.display =\n",
              "          google.colab.kernel.accessAllowed ? 'block' : 'none';\n",
              "\n",
              "        async function convertToInteractive(key) {\n",
              "          const element = document.querySelector('#df-86910bfa-76bf-42b0-bc08-3a7e7249e242');\n",
              "          const dataTable =\n",
              "            await google.colab.kernel.invokeFunction('convertToInteractive',\n",
              "                                                     [key], {});\n",
              "          if (!dataTable) return;\n",
              "\n",
              "          const docLinkHtml = 'Like what you see? Visit the ' +\n",
              "            '<a target=\"_blank\" href=https://colab.research.google.com/notebooks/data_table.ipynb>data table notebook</a>'\n",
              "            + ' to learn more about interactive tables.';\n",
              "          element.innerHTML = '';\n",
              "          dataTable['output_type'] = 'display_data';\n",
              "          await google.colab.output.renderOutput(dataTable, element);\n",
              "          const docLink = document.createElement('div');\n",
              "          docLink.innerHTML = docLinkHtml;\n",
              "          element.appendChild(docLink);\n",
              "        }\n",
              "      </script>\n",
              "    </div>\n",
              "  </div>\n",
              "  "
            ],
            "text/plain": [
              "            count         mean          std  ...    50%     75%       max\n",
              "age       45211.0    40.936210    10.618762  ...   39.0    48.0      95.0\n",
              "balance   45211.0  1362.272058  3044.765829  ...  448.0  1428.0  102127.0\n",
              "day       45211.0    15.806419     8.322476  ...   16.0    21.0      31.0\n",
              "campaign  45211.0     2.763841     3.098021  ...    2.0     3.0      63.0\n",
              "pdays     45211.0    40.197828   100.128746  ...   -1.0    -1.0     871.0\n",
              "previous  45211.0     0.580323     2.303441  ...    0.0     0.0     275.0\n",
              "\n",
              "[6 rows x 8 columns]"
            ]
          },
          "metadata": {},
          "execution_count": 6
        }
      ]
    },
    {
      "cell_type": "markdown",
      "source": [
        "### Verificando a existência de OutLiers\n",
        "\n"
      ],
      "metadata": {
        "id": "LJkufNw5ej8-"
      }
    },
    {
      "cell_type": "code",
      "source": [
        "data['pdays'].value_counts()"
      ],
      "metadata": {
        "colab": {
          "base_uri": "https://localhost:8080/"
        },
        "id": "WqH-PYRqPJhV",
        "outputId": "c3ab698a-ced6-487b-fb90-28456d7e8580"
      },
      "execution_count": 7,
      "outputs": [
        {
          "output_type": "execute_result",
          "data": {
            "text/plain": [
              "-1      36954\n",
              " 182      167\n",
              " 92       147\n",
              " 91       126\n",
              " 183      126\n",
              "        ...  \n",
              " 449        1\n",
              " 452        1\n",
              " 648        1\n",
              " 595        1\n",
              " 530        1\n",
              "Name: pdays, Length: 559, dtype: int64"
            ]
          },
          "metadata": {},
          "execution_count": 7
        }
      ]
    },
    {
      "cell_type": "code",
      "source": [
        "data.loc[data['pdays'] < 0]"
      ],
      "metadata": {
        "colab": {
          "base_uri": "https://localhost:8080/",
          "height": 424
        },
        "id": "_qmM_iU0euX3",
        "outputId": "c71437da-46f6-498c-edb6-b0b62636b084"
      },
      "execution_count": 8,
      "outputs": [
        {
          "output_type": "execute_result",
          "data": {
            "text/html": [
              "\n",
              "  <div id=\"df-6b21cd93-decb-40aa-bd4b-6ece626996c6\">\n",
              "    <div class=\"colab-df-container\">\n",
              "      <div>\n",
              "<style scoped>\n",
              "    .dataframe tbody tr th:only-of-type {\n",
              "        vertical-align: middle;\n",
              "    }\n",
              "\n",
              "    .dataframe tbody tr th {\n",
              "        vertical-align: top;\n",
              "    }\n",
              "\n",
              "    .dataframe thead th {\n",
              "        text-align: right;\n",
              "    }\n",
              "</style>\n",
              "<table border=\"1\" class=\"dataframe\">\n",
              "  <thead>\n",
              "    <tr style=\"text-align: right;\">\n",
              "      <th></th>\n",
              "      <th>age</th>\n",
              "      <th>job</th>\n",
              "      <th>marital</th>\n",
              "      <th>education</th>\n",
              "      <th>default</th>\n",
              "      <th>balance</th>\n",
              "      <th>housing</th>\n",
              "      <th>loan</th>\n",
              "      <th>contact</th>\n",
              "      <th>day</th>\n",
              "      <th>month</th>\n",
              "      <th>campaign</th>\n",
              "      <th>pdays</th>\n",
              "      <th>previous</th>\n",
              "      <th>poutcome</th>\n",
              "      <th>y</th>\n",
              "    </tr>\n",
              "  </thead>\n",
              "  <tbody>\n",
              "    <tr>\n",
              "      <th>0</th>\n",
              "      <td>58</td>\n",
              "      <td>management</td>\n",
              "      <td>married</td>\n",
              "      <td>tertiary</td>\n",
              "      <td>no</td>\n",
              "      <td>2143</td>\n",
              "      <td>yes</td>\n",
              "      <td>no</td>\n",
              "      <td>unknown</td>\n",
              "      <td>5</td>\n",
              "      <td>may</td>\n",
              "      <td>1</td>\n",
              "      <td>-1</td>\n",
              "      <td>0</td>\n",
              "      <td>unknown</td>\n",
              "      <td>no</td>\n",
              "    </tr>\n",
              "    <tr>\n",
              "      <th>1</th>\n",
              "      <td>44</td>\n",
              "      <td>technician</td>\n",
              "      <td>single</td>\n",
              "      <td>secondary</td>\n",
              "      <td>no</td>\n",
              "      <td>29</td>\n",
              "      <td>yes</td>\n",
              "      <td>no</td>\n",
              "      <td>unknown</td>\n",
              "      <td>5</td>\n",
              "      <td>may</td>\n",
              "      <td>1</td>\n",
              "      <td>-1</td>\n",
              "      <td>0</td>\n",
              "      <td>unknown</td>\n",
              "      <td>no</td>\n",
              "    </tr>\n",
              "    <tr>\n",
              "      <th>2</th>\n",
              "      <td>33</td>\n",
              "      <td>entrepreneur</td>\n",
              "      <td>married</td>\n",
              "      <td>secondary</td>\n",
              "      <td>no</td>\n",
              "      <td>2</td>\n",
              "      <td>yes</td>\n",
              "      <td>yes</td>\n",
              "      <td>unknown</td>\n",
              "      <td>5</td>\n",
              "      <td>may</td>\n",
              "      <td>1</td>\n",
              "      <td>-1</td>\n",
              "      <td>0</td>\n",
              "      <td>unknown</td>\n",
              "      <td>no</td>\n",
              "    </tr>\n",
              "    <tr>\n",
              "      <th>3</th>\n",
              "      <td>47</td>\n",
              "      <td>blue-collar</td>\n",
              "      <td>married</td>\n",
              "      <td>unknown</td>\n",
              "      <td>no</td>\n",
              "      <td>1506</td>\n",
              "      <td>yes</td>\n",
              "      <td>no</td>\n",
              "      <td>unknown</td>\n",
              "      <td>5</td>\n",
              "      <td>may</td>\n",
              "      <td>1</td>\n",
              "      <td>-1</td>\n",
              "      <td>0</td>\n",
              "      <td>unknown</td>\n",
              "      <td>no</td>\n",
              "    </tr>\n",
              "    <tr>\n",
              "      <th>4</th>\n",
              "      <td>33</td>\n",
              "      <td>unknown</td>\n",
              "      <td>single</td>\n",
              "      <td>unknown</td>\n",
              "      <td>no</td>\n",
              "      <td>1</td>\n",
              "      <td>no</td>\n",
              "      <td>no</td>\n",
              "      <td>unknown</td>\n",
              "      <td>5</td>\n",
              "      <td>may</td>\n",
              "      <td>1</td>\n",
              "      <td>-1</td>\n",
              "      <td>0</td>\n",
              "      <td>unknown</td>\n",
              "      <td>no</td>\n",
              "    </tr>\n",
              "    <tr>\n",
              "      <th>...</th>\n",
              "      <td>...</td>\n",
              "      <td>...</td>\n",
              "      <td>...</td>\n",
              "      <td>...</td>\n",
              "      <td>...</td>\n",
              "      <td>...</td>\n",
              "      <td>...</td>\n",
              "      <td>...</td>\n",
              "      <td>...</td>\n",
              "      <td>...</td>\n",
              "      <td>...</td>\n",
              "      <td>...</td>\n",
              "      <td>...</td>\n",
              "      <td>...</td>\n",
              "      <td>...</td>\n",
              "      <td>...</td>\n",
              "    </tr>\n",
              "    <tr>\n",
              "      <th>45203</th>\n",
              "      <td>23</td>\n",
              "      <td>student</td>\n",
              "      <td>single</td>\n",
              "      <td>tertiary</td>\n",
              "      <td>no</td>\n",
              "      <td>113</td>\n",
              "      <td>no</td>\n",
              "      <td>no</td>\n",
              "      <td>cellular</td>\n",
              "      <td>17</td>\n",
              "      <td>nov</td>\n",
              "      <td>1</td>\n",
              "      <td>-1</td>\n",
              "      <td>0</td>\n",
              "      <td>unknown</td>\n",
              "      <td>yes</td>\n",
              "    </tr>\n",
              "    <tr>\n",
              "      <th>45205</th>\n",
              "      <td>25</td>\n",
              "      <td>technician</td>\n",
              "      <td>single</td>\n",
              "      <td>secondary</td>\n",
              "      <td>no</td>\n",
              "      <td>505</td>\n",
              "      <td>no</td>\n",
              "      <td>yes</td>\n",
              "      <td>cellular</td>\n",
              "      <td>17</td>\n",
              "      <td>nov</td>\n",
              "      <td>2</td>\n",
              "      <td>-1</td>\n",
              "      <td>0</td>\n",
              "      <td>unknown</td>\n",
              "      <td>yes</td>\n",
              "    </tr>\n",
              "    <tr>\n",
              "      <th>45206</th>\n",
              "      <td>51</td>\n",
              "      <td>technician</td>\n",
              "      <td>married</td>\n",
              "      <td>tertiary</td>\n",
              "      <td>no</td>\n",
              "      <td>825</td>\n",
              "      <td>no</td>\n",
              "      <td>no</td>\n",
              "      <td>cellular</td>\n",
              "      <td>17</td>\n",
              "      <td>nov</td>\n",
              "      <td>3</td>\n",
              "      <td>-1</td>\n",
              "      <td>0</td>\n",
              "      <td>unknown</td>\n",
              "      <td>yes</td>\n",
              "    </tr>\n",
              "    <tr>\n",
              "      <th>45207</th>\n",
              "      <td>71</td>\n",
              "      <td>retired</td>\n",
              "      <td>divorced</td>\n",
              "      <td>primary</td>\n",
              "      <td>no</td>\n",
              "      <td>1729</td>\n",
              "      <td>no</td>\n",
              "      <td>no</td>\n",
              "      <td>cellular</td>\n",
              "      <td>17</td>\n",
              "      <td>nov</td>\n",
              "      <td>2</td>\n",
              "      <td>-1</td>\n",
              "      <td>0</td>\n",
              "      <td>unknown</td>\n",
              "      <td>yes</td>\n",
              "    </tr>\n",
              "    <tr>\n",
              "      <th>45209</th>\n",
              "      <td>57</td>\n",
              "      <td>blue-collar</td>\n",
              "      <td>married</td>\n",
              "      <td>secondary</td>\n",
              "      <td>no</td>\n",
              "      <td>668</td>\n",
              "      <td>no</td>\n",
              "      <td>no</td>\n",
              "      <td>telephone</td>\n",
              "      <td>17</td>\n",
              "      <td>nov</td>\n",
              "      <td>4</td>\n",
              "      <td>-1</td>\n",
              "      <td>0</td>\n",
              "      <td>unknown</td>\n",
              "      <td>no</td>\n",
              "    </tr>\n",
              "  </tbody>\n",
              "</table>\n",
              "<p>36954 rows × 16 columns</p>\n",
              "</div>\n",
              "      <button class=\"colab-df-convert\" onclick=\"convertToInteractive('df-6b21cd93-decb-40aa-bd4b-6ece626996c6')\"\n",
              "              title=\"Convert this dataframe to an interactive table.\"\n",
              "              style=\"display:none;\">\n",
              "        \n",
              "  <svg xmlns=\"http://www.w3.org/2000/svg\" height=\"24px\"viewBox=\"0 0 24 24\"\n",
              "       width=\"24px\">\n",
              "    <path d=\"M0 0h24v24H0V0z\" fill=\"none\"/>\n",
              "    <path d=\"M18.56 5.44l.94 2.06.94-2.06 2.06-.94-2.06-.94-.94-2.06-.94 2.06-2.06.94zm-11 1L8.5 8.5l.94-2.06 2.06-.94-2.06-.94L8.5 2.5l-.94 2.06-2.06.94zm10 10l.94 2.06.94-2.06 2.06-.94-2.06-.94-.94-2.06-.94 2.06-2.06.94z\"/><path d=\"M17.41 7.96l-1.37-1.37c-.4-.4-.92-.59-1.43-.59-.52 0-1.04.2-1.43.59L10.3 9.45l-7.72 7.72c-.78.78-.78 2.05 0 2.83L4 21.41c.39.39.9.59 1.41.59.51 0 1.02-.2 1.41-.59l7.78-7.78 2.81-2.81c.8-.78.8-2.07 0-2.86zM5.41 20L4 18.59l7.72-7.72 1.47 1.35L5.41 20z\"/>\n",
              "  </svg>\n",
              "      </button>\n",
              "      \n",
              "  <style>\n",
              "    .colab-df-container {\n",
              "      display:flex;\n",
              "      flex-wrap:wrap;\n",
              "      gap: 12px;\n",
              "    }\n",
              "\n",
              "    .colab-df-convert {\n",
              "      background-color: #E8F0FE;\n",
              "      border: none;\n",
              "      border-radius: 50%;\n",
              "      cursor: pointer;\n",
              "      display: none;\n",
              "      fill: #1967D2;\n",
              "      height: 32px;\n",
              "      padding: 0 0 0 0;\n",
              "      width: 32px;\n",
              "    }\n",
              "\n",
              "    .colab-df-convert:hover {\n",
              "      background-color: #E2EBFA;\n",
              "      box-shadow: 0px 1px 2px rgba(60, 64, 67, 0.3), 0px 1px 3px 1px rgba(60, 64, 67, 0.15);\n",
              "      fill: #174EA6;\n",
              "    }\n",
              "\n",
              "    [theme=dark] .colab-df-convert {\n",
              "      background-color: #3B4455;\n",
              "      fill: #D2E3FC;\n",
              "    }\n",
              "\n",
              "    [theme=dark] .colab-df-convert:hover {\n",
              "      background-color: #434B5C;\n",
              "      box-shadow: 0px 1px 3px 1px rgba(0, 0, 0, 0.15);\n",
              "      filter: drop-shadow(0px 1px 2px rgba(0, 0, 0, 0.3));\n",
              "      fill: #FFFFFF;\n",
              "    }\n",
              "  </style>\n",
              "\n",
              "      <script>\n",
              "        const buttonEl =\n",
              "          document.querySelector('#df-6b21cd93-decb-40aa-bd4b-6ece626996c6 button.colab-df-convert');\n",
              "        buttonEl.style.display =\n",
              "          google.colab.kernel.accessAllowed ? 'block' : 'none';\n",
              "\n",
              "        async function convertToInteractive(key) {\n",
              "          const element = document.querySelector('#df-6b21cd93-decb-40aa-bd4b-6ece626996c6');\n",
              "          const dataTable =\n",
              "            await google.colab.kernel.invokeFunction('convertToInteractive',\n",
              "                                                     [key], {});\n",
              "          if (!dataTable) return;\n",
              "\n",
              "          const docLinkHtml = 'Like what you see? Visit the ' +\n",
              "            '<a target=\"_blank\" href=https://colab.research.google.com/notebooks/data_table.ipynb>data table notebook</a>'\n",
              "            + ' to learn more about interactive tables.';\n",
              "          element.innerHTML = '';\n",
              "          dataTable['output_type'] = 'display_data';\n",
              "          await google.colab.output.renderOutput(dataTable, element);\n",
              "          const docLink = document.createElement('div');\n",
              "          docLink.innerHTML = docLinkHtml;\n",
              "          element.appendChild(docLink);\n",
              "        }\n",
              "      </script>\n",
              "    </div>\n",
              "  </div>\n",
              "  "
            ],
            "text/plain": [
              "       age           job   marital  education  ... pdays  previous poutcome    y\n",
              "0       58    management   married   tertiary  ...    -1         0  unknown   no\n",
              "1       44    technician    single  secondary  ...    -1         0  unknown   no\n",
              "2       33  entrepreneur   married  secondary  ...    -1         0  unknown   no\n",
              "3       47   blue-collar   married    unknown  ...    -1         0  unknown   no\n",
              "4       33       unknown    single    unknown  ...    -1         0  unknown   no\n",
              "...    ...           ...       ...        ...  ...   ...       ...      ...  ...\n",
              "45203   23       student    single   tertiary  ...    -1         0  unknown  yes\n",
              "45205   25    technician    single  secondary  ...    -1         0  unknown  yes\n",
              "45206   51    technician   married   tertiary  ...    -1         0  unknown  yes\n",
              "45207   71       retired  divorced    primary  ...    -1         0  unknown  yes\n",
              "45209   57   blue-collar   married  secondary  ...    -1         0  unknown   no\n",
              "\n",
              "[36954 rows x 16 columns]"
            ]
          },
          "metadata": {},
          "execution_count": 8
        }
      ]
    },
    {
      "cell_type": "markdown",
      "source": [
        "##### Acima foi constatado que a variável 'pdays' contém muitos valores de valor -1, iremos fazer a moficicação para o valor zero para que não haja uma indução de peso da variável ao fazer o treinamento e validação do nosso modelo"
      ],
      "metadata": {
        "id": "nfc1mQC1hHOb"
      }
    },
    {
      "cell_type": "code",
      "source": [
        "data.loc[data['pdays'] < 0, 'pdays'] = 0"
      ],
      "metadata": {
        "id": "017eZNjwhb8E"
      },
      "execution_count": 9,
      "outputs": []
    },
    {
      "cell_type": "code",
      "source": [
        "data.pdays.value_counts()"
      ],
      "metadata": {
        "colab": {
          "base_uri": "https://localhost:8080/"
        },
        "id": "UtidLgzHgkbc",
        "outputId": "780dfe5c-e1c0-4284-abb6-10acd9d706a3"
      },
      "execution_count": 10,
      "outputs": [
        {
          "output_type": "execute_result",
          "data": {
            "text/plain": [
              "0      36954\n",
              "182      167\n",
              "92       147\n",
              "91       126\n",
              "183      126\n",
              "       ...  \n",
              "449        1\n",
              "452        1\n",
              "648        1\n",
              "595        1\n",
              "530        1\n",
              "Name: pdays, Length: 559, dtype: int64"
            ]
          },
          "metadata": {},
          "execution_count": 10
        }
      ]
    },
    {
      "cell_type": "code",
      "source": [
        "# verificando a quantidade de dados nulos**\n",
        "data.isnull().sum()"
      ],
      "metadata": {
        "id": "wosj-3zpgZD4",
        "colab": {
          "base_uri": "https://localhost:8080/"
        },
        "outputId": "f6215ccb-a223-48d5-ab28-b176d2676dc8"
      },
      "execution_count": 11,
      "outputs": [
        {
          "output_type": "execute_result",
          "data": {
            "text/plain": [
              "age          0\n",
              "job          0\n",
              "marital      0\n",
              "education    0\n",
              "default      0\n",
              "balance      0\n",
              "housing      0\n",
              "loan         0\n",
              "contact      0\n",
              "day          0\n",
              "month        0\n",
              "campaign     0\n",
              "pdays        0\n",
              "previous     0\n",
              "poutcome     0\n",
              "y            0\n",
              "dtype: int64"
            ]
          },
          "metadata": {},
          "execution_count": 11
        }
      ]
    },
    {
      "cell_type": "code",
      "source": [
        "# verificando se existem dados duplicados\n",
        "data.duplicated().sum()"
      ],
      "metadata": {
        "id": "AbXzxTXPg5aC",
        "colab": {
          "base_uri": "https://localhost:8080/"
        },
        "outputId": "61e5e233-0358-498b-a814-abc0d34f0a57"
      },
      "execution_count": 12,
      "outputs": [
        {
          "output_type": "execute_result",
          "data": {
            "text/plain": [
              "16"
            ]
          },
          "metadata": {},
          "execution_count": 12
        }
      ]
    },
    {
      "cell_type": "code",
      "source": [
        "# verificando a variavel target\n",
        "data.y.unique()"
      ],
      "metadata": {
        "id": "cGEvAfPuhEiz",
        "colab": {
          "base_uri": "https://localhost:8080/"
        },
        "outputId": "9a00f4fb-434c-4bcd-9c40-9b8f6a176f8a"
      },
      "execution_count": 13,
      "outputs": [
        {
          "output_type": "execute_result",
          "data": {
            "text/plain": [
              "array(['no', 'yes'], dtype=object)"
            ]
          },
          "metadata": {},
          "execution_count": 13
        }
      ]
    },
    {
      "cell_type": "code",
      "source": [
        "# verificando a proporção de valores na variável target\n",
        "data.y.value_counts()"
      ],
      "metadata": {
        "colab": {
          "base_uri": "https://localhost:8080/"
        },
        "id": "J71L6m0GiYZu",
        "outputId": "c56ce173-db74-4cd7-9f84-b7e9945ba5d2"
      },
      "execution_count": 14,
      "outputs": [
        {
          "output_type": "execute_result",
          "data": {
            "text/plain": [
              "no     39922\n",
              "yes     5289\n",
              "Name: y, dtype: int64"
            ]
          },
          "metadata": {},
          "execution_count": 14
        }
      ]
    },
    {
      "cell_type": "code",
      "source": [
        "# modificando a variavel target para 0 e 1\n",
        "data.y = data['y'].map({'no':0, 'yes': 1})"
      ],
      "metadata": {
        "id": "w7DzYvmnj4Wf"
      },
      "execution_count": 15,
      "outputs": []
    },
    {
      "cell_type": "code",
      "source": [
        "# verificando a variavel target**\n",
        "data.y.unique()"
      ],
      "metadata": {
        "id": "HgJ90XHrkGtc",
        "colab": {
          "base_uri": "https://localhost:8080/"
        },
        "outputId": "c5bb897b-94c9-409a-e3a0-66f8064a1f2c"
      },
      "execution_count": 16,
      "outputs": [
        {
          "output_type": "execute_result",
          "data": {
            "text/plain": [
              "array([0, 1])"
            ]
          },
          "metadata": {},
          "execution_count": 16
        }
      ]
    },
    {
      "cell_type": "code",
      "source": [
        "# modificando o nome da coluna de y para target**\n",
        "data = data.rename(columns={'y': 'target'})\n",
        "data.columns"
      ],
      "metadata": {
        "id": "m121B98Ik9_A",
        "colab": {
          "base_uri": "https://localhost:8080/"
        },
        "outputId": "360f4aad-a0bc-4e2b-94ff-f00b86a3efdb"
      },
      "execution_count": 17,
      "outputs": [
        {
          "output_type": "execute_result",
          "data": {
            "text/plain": [
              "Index(['age', 'job', 'marital', 'education', 'default', 'balance', 'housing',\n",
              "       'loan', 'contact', 'day', 'month', 'campaign', 'pdays', 'previous',\n",
              "       'poutcome', 'target'],\n",
              "      dtype='object')"
            ]
          },
          "metadata": {},
          "execution_count": 17
        }
      ]
    },
    {
      "cell_type": "code",
      "source": [
        "# verificando o tipo de variavel**\n",
        "data.info()"
      ],
      "metadata": {
        "id": "6xlijp6LUMuq",
        "colab": {
          "base_uri": "https://localhost:8080/"
        },
        "outputId": "7a488cf5-3224-40bd-86c4-f61dffebc7ca"
      },
      "execution_count": 18,
      "outputs": [
        {
          "output_type": "stream",
          "name": "stdout",
          "text": [
            "<class 'pandas.core.frame.DataFrame'>\n",
            "RangeIndex: 45211 entries, 0 to 45210\n",
            "Data columns (total 16 columns):\n",
            " #   Column     Non-Null Count  Dtype \n",
            "---  ------     --------------  ----- \n",
            " 0   age        45211 non-null  int64 \n",
            " 1   job        45211 non-null  object\n",
            " 2   marital    45211 non-null  object\n",
            " 3   education  45211 non-null  object\n",
            " 4   default    45211 non-null  object\n",
            " 5   balance    45211 non-null  int64 \n",
            " 6   housing    45211 non-null  object\n",
            " 7   loan       45211 non-null  object\n",
            " 8   contact    45211 non-null  object\n",
            " 9   day        45211 non-null  int64 \n",
            " 10  month      45211 non-null  object\n",
            " 11  campaign   45211 non-null  int64 \n",
            " 12  pdays      45211 non-null  int64 \n",
            " 13  previous   45211 non-null  int64 \n",
            " 14  poutcome   45211 non-null  object\n",
            " 15  target     45211 non-null  int64 \n",
            "dtypes: int64(7), object(9)\n",
            "memory usage: 5.5+ MB\n"
          ]
        }
      ]
    },
    {
      "cell_type": "code",
      "source": [
        "X = data.iloc[:, 0:15].values\n",
        "X.shape\n",
        "# X = data.iloc[:, 0:15].values **\n",
        "# X.shape"
      ],
      "metadata": {
        "colab": {
          "base_uri": "https://localhost:8080/"
        },
        "id": "HElcmARk_1S3",
        "outputId": "b24bed80-3070-432e-d847-a6066e7b335d"
      },
      "execution_count": 21,
      "outputs": [
        {
          "output_type": "execute_result",
          "data": {
            "text/plain": [
              "(45211, 15)"
            ]
          },
          "metadata": {},
          "execution_count": 21
        }
      ]
    },
    {
      "cell_type": "code",
      "source": [
        "y = data.iloc[:,15].values\n",
        "y\n",
        "# y = data.iloc[:,15].values **\n",
        "# y"
      ],
      "metadata": {
        "colab": {
          "base_uri": "https://localhost:8080/"
        },
        "id": "H3UsTnhT_-ci",
        "outputId": "1faa5258-b4eb-406b-cce3-a7449852242e"
      },
      "execution_count": 22,
      "outputs": [
        {
          "output_type": "execute_result",
          "data": {
            "text/plain": [
              "array([0, 0, 0, ..., 1, 0, 0])"
            ]
          },
          "metadata": {},
          "execution_count": 22
        }
      ]
    },
    {
      "cell_type": "code",
      "source": [
        "lb = LabelEncoder()\n",
        "data.job = lb.fit_transform(data.job) # job\n",
        "data.marital = lb.fit_transform(data.marital) # marital\n",
        "data.education = lb.fit_transform(data.education) # education\n",
        "data.default = lb.fit_transform(data.default) # default\n",
        "data.housing = lb.fit_transform(data.housing) # housing\n",
        "data.loan = lb.fit_transform(data.loan) # loan\n",
        "data.contact = lb.fit_transform(data.contact) # contact\n",
        "data.month = lb.fit_transform(data.month) # month\n",
        "data.poutcome = lb.fit_transform(data.poutcome) # poutcome\n",
        "\n",
        "# o código abaixo é utilizado quando a variável X é uma Series\n",
        "# lb = LabelEncoder()\n",
        "# X[:,1] = lb.fit_transform(X[:,1]) # job\n",
        "# X[:,2] = lb.fit_transform(X[:,2]) # marital\n",
        "# X[:,3] = lb.fit_transform(X[:,3]) # education\n",
        "# X[:,4] = lb.fit_transform(X[:,4]) # default\n",
        "# X[:,6] = lb.fit_transform(X[:,6]) # housing\n",
        "# X[:,7] = lb.fit_transform(X[:,7]) # loan\n",
        "# X[:,8] = lb.fit_transform(X[:,8]) # contact\n",
        "# X[:,10] = lb.fit_transform(X[:,10]) # month\n",
        "# X[:,14] = lb.fit_transform(X[:,14]) # poutcome"
      ],
      "metadata": {
        "id": "_QqSQEYsMji0"
      },
      "execution_count": 23,
      "outputs": []
    },
    {
      "cell_type": "code",
      "source": [
        "X.shape # **"
      ],
      "metadata": {
        "id": "4qLSVWUtcXUb",
        "colab": {
          "base_uri": "https://localhost:8080/"
        },
        "outputId": "7582d703-4905-4116-f9f9-4134756e6227"
      },
      "execution_count": 24,
      "outputs": [
        {
          "output_type": "execute_result",
          "data": {
            "text/plain": [
              "(45211, 15)"
            ]
          },
          "metadata": {},
          "execution_count": 24
        }
      ]
    },
    {
      "cell_type": "code",
      "source": [
        "oneHoteEncoder = ColumnTransformer(transformers=[('OneHot', OneHotEncoder(),\n",
        "                                                  [1,2,3,4,6,7,8,10,14])],\n",
        "                                                  remainder='passthrough')"
      ],
      "metadata": {
        "id": "nzPnnYOcAO9H"
      },
      "execution_count": 25,
      "outputs": []
    },
    {
      "cell_type": "code",
      "source": [
        "X = oneHoteEncoder.fit_transform(X)\n",
        "X.shape"
      ],
      "metadata": {
        "colab": {
          "base_uri": "https://localhost:8080/"
        },
        "id": "HokOSKwoB2Sd",
        "outputId": "28e29918-0908-41a4-84a2-467127c70673"
      },
      "execution_count": 26,
      "outputs": [
        {
          "output_type": "execute_result",
          "data": {
            "text/plain": [
              "(45211, 50)"
            ]
          },
          "metadata": {},
          "execution_count": 26
        }
      ]
    },
    {
      "cell_type": "code",
      "source": [
        "scaler = StandardScaler()  \n",
        "scaler.fit(X)\n",
        "X = scaler.transform(X)\n",
        "X.shape"
      ],
      "metadata": {
        "colab": {
          "base_uri": "https://localhost:8080/"
        },
        "id": "_ttVPoSpssOg",
        "outputId": "f51dda37-284f-4615-93ce-1724258c6e60"
      },
      "execution_count": 27,
      "outputs": [
        {
          "output_type": "execute_result",
          "data": {
            "text/plain": [
              "(45211, 50)"
            ]
          },
          "metadata": {},
          "execution_count": 27
        }
      ]
    },
    {
      "cell_type": "code",
      "source": [
        "type(X) # **"
      ],
      "metadata": {
        "colab": {
          "base_uri": "https://localhost:8080/"
        },
        "id": "DQ-8jVHOuvqO",
        "outputId": "676b7480-c1f6-4ad4-d952-188a8ce7e730"
      },
      "execution_count": 28,
      "outputs": [
        {
          "output_type": "execute_result",
          "data": {
            "text/plain": [
              "numpy.ndarray"
            ]
          },
          "metadata": {},
          "execution_count": 28
        }
      ]
    },
    {
      "cell_type": "code",
      "source": [
        "type(y) # **"
      ],
      "metadata": {
        "colab": {
          "base_uri": "https://localhost:8080/"
        },
        "id": "6i_Do7nMuy_f",
        "outputId": "1d05d806-fd99-4e58-eb7c-ad47fc142a10"
      },
      "execution_count": 29,
      "outputs": [
        {
          "output_type": "execute_result",
          "data": {
            "text/plain": [
              "numpy.ndarray"
            ]
          },
          "metadata": {},
          "execution_count": 29
        }
      ]
    },
    {
      "cell_type": "code",
      "source": [
        "# dividindo em treino e test utilisando o train_test_split\n",
        "X_train, X_test, y_train, y_test = train_test_split(X, y, test_size=0.2, random_state=123)"
      ],
      "metadata": {
        "id": "fC1r7Do-mdyv"
      },
      "execution_count": 30,
      "outputs": []
    },
    {
      "cell_type": "code",
      "source": [
        "# dividindo os dados de treino em dados de treino e dados de validação **\n",
        "strat = StratifiedShuffleSplit(n_splits=4, test_size=0.2, random_state=123)\n",
        "for treino_id, test_id in strat.split(X, y):\n",
        "  X_train_b, X_test_b = X[treino_id], X[test_id]\n",
        "  y_train_b, y_test_b = y[treino_id], y[test_id]"
      ],
      "metadata": {
        "id": "HPtw5GiRMO_4"
      },
      "execution_count": 32,
      "outputs": []
    },
    {
      "cell_type": "code",
      "source": [
        "# verificando shape dos dados de treino **\n",
        "X_train.shape, y_train.shape"
      ],
      "metadata": {
        "id": "IpUo9pkunOuf",
        "colab": {
          "base_uri": "https://localhost:8080/"
        },
        "outputId": "818b4d47-bb0f-41f7-ae89-21f73ac14281"
      },
      "execution_count": 33,
      "outputs": [
        {
          "output_type": "execute_result",
          "data": {
            "text/plain": [
              "((36168, 50), (36168,))"
            ]
          },
          "metadata": {},
          "execution_count": 33
        }
      ]
    },
    {
      "cell_type": "code",
      "source": [
        "# verificando shape dos dados de test **\n",
        "X_test.shape, y_test.shape"
      ],
      "metadata": {
        "id": "RxnxesTbndcG",
        "colab": {
          "base_uri": "https://localhost:8080/"
        },
        "outputId": "b93139d4-316a-4b7a-a6f1-f09eb08eceaf"
      },
      "execution_count": 34,
      "outputs": [
        {
          "output_type": "execute_result",
          "data": {
            "text/plain": [
              "((9043, 50), (9043,))"
            ]
          },
          "metadata": {},
          "execution_count": 34
        }
      ]
    },
    {
      "cell_type": "code",
      "source": [
        "# verificando shape dos dados de validação **\n",
        "X_train_b.shape, y_train_b.shape"
      ],
      "metadata": {
        "colab": {
          "base_uri": "https://localhost:8080/"
        },
        "id": "B6ZkwCqvNQ0H",
        "outputId": "ce316ebb-bb3e-4b59-b616-fb76b5e17ea6"
      },
      "execution_count": 35,
      "outputs": [
        {
          "output_type": "execute_result",
          "data": {
            "text/plain": [
              "((36168, 50), (36168,))"
            ]
          },
          "metadata": {},
          "execution_count": 35
        }
      ]
    },
    {
      "cell_type": "code",
      "source": [
        "X_test_b.shape, y_test_b.shape"
      ],
      "metadata": {
        "colab": {
          "base_uri": "https://localhost:8080/"
        },
        "id": "BY3qTNTTi8Do",
        "outputId": "e8fbbf2e-eb74-4599-a052-82a79fb3155e"
      },
      "execution_count": 36,
      "outputs": [
        {
          "output_type": "execute_result",
          "data": {
            "text/plain": [
              "((9043, 50), (9043,))"
            ]
          },
          "metadata": {},
          "execution_count": 36
        }
      ]
    },
    {
      "cell_type": "markdown",
      "source": [
        "# Decision Tree"
      ],
      "metadata": {
        "id": "4nB4SZ1Mos_J"
      }
    },
    {
      "cell_type": "code",
      "source": [
        "def validate(X, y):\n",
        "  strat = StratifiedShuffleSplit(n_splits=3, test_size=0.2, random_state=123)\n",
        "  for treino_id, test_id in strat.split(X, y):\n",
        "    X_train, X_test = X[treino_id], X[test_id]\n",
        "    y_train, y_test = y[treino_id], y[test_id]\n",
        "  return X_train, X_test, y_train, y_test"
      ],
      "metadata": {
        "id": "Ih3lRYJlmj2_"
      },
      "execution_count": 37,
      "outputs": []
    },
    {
      "cell_type": "code",
      "source": [
        "def execute_clf(clf, X_train, X_test, y_train):\n",
        "  clf = clf.fit(X_train, y_train)\n",
        "  y_pred = clf.predict(X_test)\n",
        "  return y_pred"
      ],
      "metadata": {
        "id": "zqUKJ3Jhmew2"
      },
      "execution_count": 38,
      "outputs": []
    },
    {
      "cell_type": "code",
      "source": [
        "def validate_tree(y_pred, y_test):\n",
        "  print(f'Model Accuracy: {(accuracy_score(y_pred, y_test).round(4))*100}')\n",
        "  print(f'\\nPrecision Score: \\n{precision_score(y_pred, y_test).round(4)*100}')\n",
        "  print(f'\\nConfusion Matrix: \\n{confusion_matrix(y_pred, y_test)}')"
      ],
      "metadata": {
        "id": "Y3lauuSnmoFe"
      },
      "execution_count": 39,
      "outputs": []
    },
    {
      "cell_type": "code",
      "source": [
        "validate(X, y)"
      ],
      "metadata": {
        "colab": {
          "base_uri": "https://localhost:8080/"
        },
        "id": "ltBuWspAmpUJ",
        "outputId": "e1e18bf3-a6c2-419a-84e1-f336881c867f"
      },
      "execution_count": 40,
      "outputs": [
        {
          "output_type": "execute_result",
          "data": {
            "text/plain": [
              "(array([[-0.35936869,  1.909346  , -0.1844147 , ...,  0.07622994,\n",
              "         -0.41100886, -0.25194037],\n",
              "        [-0.35936869, -0.52373954, -0.1844147 , ...,  0.39902023,\n",
              "         -0.41100886, -0.25194037],\n",
              "        [-0.35936869, -0.52373954, -0.1844147 , ..., -0.56935064,\n",
              "         -0.41100886, -0.25194037],\n",
              "        ...,\n",
              "        [-0.35936869, -0.52373954, -0.1844147 , ...,  0.07622994,\n",
              "         -0.41100886, -0.25194037],\n",
              "        [-0.35936869, -0.52373954, -0.1844147 , ..., -0.56935064,\n",
              "         -0.41100886, -0.25194037],\n",
              "        [-0.35936869, -0.52373954,  5.42256115, ...,  0.07622994,\n",
              "         -0.41100886, -0.25194037]]),\n",
              " array([[-0.35936869,  1.909346  , -0.1844147 , ...,  0.39902023,\n",
              "         -0.41100886, -0.25194037],\n",
              "        [-0.35936869, -0.52373954, -0.1844147 , ..., -0.24656035,\n",
              "         -0.41100886, -0.25194037],\n",
              "        [-0.35936869, -0.52373954, -0.1844147 , ..., -0.56935064,\n",
              "          1.25245928,  1.05047333],\n",
              "        ...,\n",
              "        [ 2.78265757, -0.52373954, -0.1844147 , ..., -0.56935064,\n",
              "         -0.41100886, -0.25194037],\n",
              "        [-0.35936869, -0.52373954, -0.1844147 , ..., -0.56935064,\n",
              "         -0.41100886, -0.25194037],\n",
              "        [-0.35936869, -0.52373954, -0.1844147 , ..., -0.56935064,\n",
              "         -0.41100886, -0.25194037]]),\n",
              " array([0, 0, 0, ..., 0, 0, 0]),\n",
              " array([0, 0, 0, ..., 0, 0, 0]))"
            ]
          },
          "metadata": {},
          "execution_count": 40
        }
      ]
    },
    {
      "cell_type": "code",
      "source": [
        "clf_tree = DecisionTreeClassifier()\n",
        "y_pred_clf = execute_clf(clf_tree, X_train, X_test, y_train)"
      ],
      "metadata": {
        "id": "GJRVScaanUMj"
      },
      "execution_count": 41,
      "outputs": []
    },
    {
      "cell_type": "code",
      "source": [
        "validate_tree(y_pred_clf, y_test)"
      ],
      "metadata": {
        "colab": {
          "base_uri": "https://localhost:8080/"
        },
        "id": "TBcm8oNkngTq",
        "outputId": "caffe402-b76c-4b94-edc5-0146310c2058"
      },
      "execution_count": 42,
      "outputs": [
        {
          "output_type": "stream",
          "name": "stdout",
          "text": [
            "Model Accuracy: 83.11\n",
            "\n",
            "Precision Score: \n",
            "32.36\n",
            "\n",
            "Confusion Matrix: \n",
            "[[7174  715]\n",
            " [ 812  342]]\n"
          ]
        }
      ]
    },
    {
      "cell_type": "markdown",
      "source": [
        "# Realizando com dados balanceados"
      ],
      "metadata": {
        "id": "1olPKP4gomfJ"
      }
    },
    {
      "cell_type": "code",
      "source": [
        "rus = RandomUnderSampler()"
      ],
      "metadata": {
        "id": "zKzbwM60ol8Z"
      },
      "execution_count": 43,
      "outputs": []
    },
    {
      "cell_type": "code",
      "source": [
        "X_res, y_res = rus.fit_resample(X_train, y_train)"
      ],
      "metadata": {
        "id": "2fJ3HJ_qolwg"
      },
      "execution_count": 44,
      "outputs": []
    },
    {
      "cell_type": "code",
      "source": [
        "# ver o balanceamento das classes\n",
        "print(pd.Series(y_res).value_counts())\n",
        " \n",
        "# plotar a nova distribuição de classes\n",
        "sns.countplot(y_res);"
      ],
      "metadata": {
        "colab": {
          "base_uri": "https://localhost:8080/",
          "height": 317
        },
        "id": "x1VghcM3olmK",
        "outputId": "fe90195f-4af9-4981-947f-28a5f161c7a1"
      },
      "execution_count": 45,
      "outputs": [
        {
          "output_type": "stream",
          "name": "stdout",
          "text": [
            "0    4232\n",
            "1    4232\n",
            "dtype: int64\n"
          ]
        },
        {
          "output_type": "display_data",
          "data": {
            "image/png": "[encoded data removed]",
            "text/plain": [
              "<Figure size 432x288 with 1 Axes>"
            ]
          },
          "metadata": {
            "needs_background": "light"
          }
        }
      ]
    },
    {
      "cell_type": "code",
      "source": [
        "# instanciar e treinar um modelo de Regressão Logística\n",
        "model_res = DecisionTreeClassifier()\n",
        "model_res.fit(X_res, y_res)\n",
        " \n",
        "# fazer as previsões em cima dos dados de teste\n",
        "y_pred_res = model_res.predict(X_test)\n",
        "y_proba_res = model_res.predict_proba(X_test)\n",
        " \n",
        "# plotar a matrix de confusão\n",
        "# skplt.metrics.plot_confusion_matrix(y_test, y_pred_res, normalize=True)\n",
        " \n",
        "# imprimir relatório de classificação\n",
        "print(\"Relatório de Classificação:\\n\", classification_report(y_test, y_pred_res, digits=4))\n",
        " \n",
        "# imprimir a acurácia do modelo\n",
        "print(\"Acurácia: {:.4f}\\n\".format(accuracy_score(y_test, y_pred_res)))\n",
        " \n",
        "# imprimir a área sob da curva\n",
        "print(\"AUC: {:.4f}\\n\".format(roc_auc_score(y_test, y_pred_res)))"
      ],
      "metadata": {
        "colab": {
          "base_uri": "https://localhost:8080/"
        },
        "id": "vW_WsCEOolZQ",
        "outputId": "8155413a-1977-47d3-a266-b7bdf5d1313f"
      },
      "execution_count": 46,
      "outputs": [
        {
          "output_type": "stream",
          "name": "stdout",
          "text": [
            "Relatório de Classificação:\n",
            "               precision    recall  f1-score   support\n",
            "\n",
            "           0     0.9284    0.6232    0.7458      7986\n",
            "           1     0.1828    0.6367    0.2840      1057\n",
            "\n",
            "    accuracy                         0.6248      9043\n",
            "   macro avg     0.5556    0.6300    0.5149      9043\n",
            "weighted avg     0.8412    0.6248    0.6918      9043\n",
            "\n",
            "Acurácia: 0.6248\n",
            "\n",
            "AUC: 0.6300\n",
            "\n"
          ]
        }
      ]
    },
    {
      "cell_type": "code",
      "source": [
        ""
      ],
      "metadata": {
        "id": "QS4MUoukolO5"
      },
      "execution_count": 46,
      "outputs": []
    },
    {
      "cell_type": "code",
      "source": [
        ""
      ],
      "metadata": {
        "id": "7R67xLkpolBd"
      },
      "execution_count": 46,
      "outputs": []
    },
    {
      "cell_type": "markdown",
      "source": [
        "# Cross Validation"
      ],
      "metadata": {
        "id": "_4tjZ1ToiS4I"
      }
    },
    {
      "cell_type": "code",
      "source": [
        "# cross validation Decision Tree \n",
        "clf = DecisionTreeClassifier(max_depth=7)\n",
        "clf = clf.fit(X, y)\n",
        "prediction = clf.predict(X_test)\n",
        "tam_i = []\n",
        "for i in prediction[1:]:\n",
        "  if i == 1:\n",
        "    tam_i.append(i)\n",
        "error_valid_clf = (len(tam_i))\n",
        "print(f\"No conjunto de treino X com {X_train.shape[0]}, temos {error_valid_clf} dados classificados errados\")"
      ],
      "metadata": {
        "id": "VbeV7IDNtnCu",
        "colab": {
          "base_uri": "https://localhost:8080/"
        },
        "outputId": "a6268480-383b-4250-a81a-2ad0bcd02837"
      },
      "execution_count": 47,
      "outputs": [
        {
          "output_type": "stream",
          "name": "stdout",
          "text": [
            "No conjunto de treino X com 36168, temos 288 dados classificados errados\n"
          ]
        }
      ]
    },
    {
      "cell_type": "code",
      "source": [
        "# cross validation Decision Tree \n",
        "clf = DecisionTreeClassifier(max_depth=7)\n",
        "clf = clf.fit(X, y)\n",
        "prediction = clf.predict(X_test)\n",
        "tam_i = []\n",
        "for i in prediction[1:]:\n",
        "  if i == 1:\n",
        "    tam_i.append(i)\n",
        "error_valid_clf = (len(tam_i))\n",
        "print(f\"No conjunto de treino X com {X_train.shape[0]}, temos {error_valid_clf} dados classificados errados\")"
      ],
      "metadata": {
        "colab": {
          "base_uri": "https://localhost:8080/"
        },
        "id": "Qqct6aZ5ug1W",
        "outputId": "69c717e1-db65-4f76-e2fe-51f62f24c51f"
      },
      "execution_count": 48,
      "outputs": [
        {
          "output_type": "stream",
          "name": "stdout",
          "text": [
            "No conjunto de treino X com 36168, temos 290 dados classificados errados\n"
          ]
        }
      ]
    },
    {
      "cell_type": "markdown",
      "source": [
        "# Confusion Matrix"
      ],
      "metadata": {
        "id": "j6ePcfIbkVEP"
      }
    },
    {
      "cell_type": "code",
      "source": [
        "# Matriz de confusão Decision Tree\n",
        "conf_matrix = plot_confusion_matrix(clf, X_test, y_test, cmap='Reds')"
      ],
      "metadata": {
        "id": "JHBdhwVEu_B7",
        "colab": {
          "base_uri": "https://localhost:8080/",
          "height": 279
        },
        "outputId": "66e62881-8f80-4ef7-ab10-b3683f036782"
      },
      "execution_count": 56,
      "outputs": [
        {
          "output_type": "display_data",
          "data": {
            "image/png": "[encoded data removed]",
            "text/plain": [
              "<Figure size 432x288 with 2 Axes>"
            ]
          },
          "metadata": {
            "needs_background": "light"
          }
        }
      ]
    },
    {
      "cell_type": "code",
      "source": [
        "# Matriz de confusão Decision Tree\n",
        "# conf_matrix = plot_confusion_matrix(clf, X_test_b, y_test_b, cmap='Greens')"
      ],
      "metadata": {
        "id": "m0WQaWO0unyM"
      },
      "execution_count": 57,
      "outputs": []
    },
    {
      "cell_type": "markdown",
      "source": [
        "## Explicando a matriz de confusão\n",
        "* Quadrante superior esquerdo = Verdadeiro Positivo<br>\n",
        "* Quadrante superior direito = Falso Negativo<br>\n",
        "* Quadrante inferior esquerdo = Falso Positivo<br>\n",
        "* Quadrante inferior direito = Verdadeiro Negativo\n"
      ],
      "metadata": {
        "id": "VWaEGQG-luYs"
      }
    },
    {
      "cell_type": "markdown",
      "source": [
        "# Curva ROC"
      ],
      "metadata": {
        "id": "6v22MrxsqwN3"
      }
    },
    {
      "cell_type": "markdown",
      "source": [
        "A curva ROC avalia o desempenho do modelo a partir da relação entre a taxa de verdadeiros porsitivos (sensibilidade) e a taxa de falsos positivos (especificidade) para diferentes limites.<br><br>\n",
        " * SENSIBILIDADE -> métrica que pode ser utilizada é a sensibilidade (também conhecida como recall ou revocação). Essa métrica avalia a capacidade do método de detectar com sucesso resultados classificados como positivos. <br><br>\n",
        " * ESPECIFICIDADE -> Avalia a capacidade do método de detectar resultados negativos. \n",
        "\n"
      ],
      "metadata": {
        "id": "O1OkRvZ5t8OT"
      }
    },
    {
      "cell_type": "markdown",
      "source": [
        "![image.png](data:image/png;base64,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)"
      ],
      "metadata": {
        "id": "1PRE54gIuynQ"
      }
    },
    {
      "cell_type": "markdown",
      "source": [
        "![image.png](data:image/png;base64,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)"
      ],
      "metadata": {
        "id": "grihRyFtu25t"
      }
    },
    {
      "cell_type": "markdown",
      "source": [
        "#### Curva ROC Decision Tree"
      ],
      "metadata": {
        "id": "9ioR91LJwX5z"
      }
    },
    {
      "cell_type": "code",
      "source": [
        "# fpr -> False Positive Rate (taxa de falsos positivos)\n",
        "# tpr -> True Positive Rate (taxa de verdadeiros positivos)\n",
        "# veificando a probabilidade do modelo\n",
        "prob_clf = clf.predict_proba(X_test)[:,1]\n",
        "fpr, tpr, limit = roc_curve(y_test, prob_clf) # define a curva ROC\n",
        "roc_dec_tree = roc_auc_score(y_test, prob_clf)\n",
        "# calculo da area sobre a curva ROC\n",
        "round(roc_dec_tree, 3)"
      ],
      "metadata": {
        "id": "QHyi6qKUwVa3",
        "colab": {
          "base_uri": "https://localhost:8080/"
        },
        "outputId": "0936c611-6037-4d1e-a141-28c61422a79e"
      },
      "execution_count": 58,
      "outputs": [
        {
          "output_type": "execute_result",
          "data": {
            "text/plain": [
              "0.714"
            ]
          },
          "metadata": {},
          "execution_count": 58
        }
      ]
    },
    {
      "cell_type": "code",
      "source": [
        "# plotando a curva ROC\n",
        "\n",
        "plt.subplots(1, figsize=(8,8))\n",
        "plt.title(\"Curva ROC Decision Tree\")\n",
        "plt.plot(fpr, tpr)\n",
        "plt.xlabel('Especificidade')\n",
        "plt.ylabel('Sensibilidade')\n",
        "plt.plot([0, 1], ls= '--', c = 'red') # plotando linha guia (pontilhada)\n",
        "plt.plot([0, 0], [1, 0], ls='-', c = 'green'), plt.plot([1, 1], ls='-', c = 'green') # linha guia superior\n",
        "plt.show()"
      ],
      "metadata": {
        "id": "uYR4rEqqxz7P",
        "colab": {
          "base_uri": "https://localhost:8080/",
          "height": 513
        },
        "outputId": "e89c8e68-73f7-4026-d936-61839bf8fd36"
      },
      "execution_count": 59,
      "outputs": [
        {
          "output_type": "display_data",
          "data": {
            "image/png": "[encoded data removed]",
            "text/plain": [
              "<Figure size 576x576 with 1 Axes>"
            ]
          },
          "metadata": {
            "needs_background": "light"
          }
        }
      ]
    },
    {
      "cell_type": "code",
      "source": [
        "# fpr -> False Positive Rate (taxa de falsos positivos)\n",
        "# tpr -> True Positive Rate (taxa de verdadeiros positivos)\n",
        "# veificando a probabilidade do modelo\n",
        "prob_clf = clf.predict_proba(X_test_b)[:,1]\n",
        "fpr, tpr, limit = roc_curve(y_test_b, prob_clf) # define a curva ROC\n",
        "roc_dec_tree = roc_auc_score(y_test_b, prob_clf)\n",
        "# calculo da area sobre a curva ROC\n",
        "round(roc_dec_tree, 3)"
      ],
      "metadata": {
        "colab": {
          "base_uri": "https://localhost:8080/"
        },
        "id": "reJHPGqIuxl8",
        "outputId": "52908550-5945-491a-8470-879f4299ce85"
      },
      "execution_count": 60,
      "outputs": [
        {
          "output_type": "execute_result",
          "data": {
            "text/plain": [
              "0.714"
            ]
          },
          "metadata": {},
          "execution_count": 60
        }
      ]
    },
    {
      "cell_type": "code",
      "source": [
        "# plotando a curva ROC\n",
        "\n",
        "# plt.subplots(1, figsize=(8,8))\n",
        "# plt.title(\"Curva ROC Decision Tree\")\n",
        "# plt.plot(fpr, tpr)\n",
        "# plt.xlabel('Especificidade')\n",
        "# plt.ylabel('Sensibilidade')\n",
        "# plt.plot([0, 1], ls= '--', c = 'red') # plotando linha guia (pontilhada)\n",
        "# plt.plot([0, 0], [1, 0], ls='-', c = 'green'), plt.plot([1, 1], ls='-', c = 'green') # linha guia superior\n",
        "# plt.show()"
      ],
      "metadata": {
        "id": "njwMT1ZVuxOq"
      },
      "execution_count": 61,
      "outputs": []
    },
    {
      "cell_type": "markdown",
      "source": [
        "#### Explicando o gráfico<br>\n",
        "\n",
        "A linha vermelha (diagonal à direita), representa um modelo aleatório, já a linha verde representa um modelo perfeito, podemos concluir que quanto mais próximo da linha verde, mais correto está a predição do modelo, neste caso nossa linha azul ROC está mais próxima da linha verde.\n",
        "\n",
        "No gráfico de curva ROC da Linear Regression e Decision Tree, podemos ver as curvas muito parecidas, já no KNN, o desempenho já não é tão bom."
      ],
      "metadata": {
        "id": "e1-Xo-TMv3ov"
      }
    },
    {
      "cell_type": "markdown",
      "source": [
        "![image.png](data:image/png;base64,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)\n"
      ],
      "metadata": {
        "id": "1vXLN7bjwp9R"
      }
    },
    {
      "cell_type": "markdown",
      "source": [
        "Nosso modelo tem 7.1 de discriminação na curva ROC, ou seja, temos uma discriminação aceitável."
      ],
      "metadata": {
        "id": "X4z86qgszCXg"
      }
    },
    {
      "cell_type": "code",
      "source": [
        ""
      ],
      "metadata": {
        "id": "N0K8oxgS6-eP"
      },
      "execution_count": null,
      "outputs": []
    }
  ]
}